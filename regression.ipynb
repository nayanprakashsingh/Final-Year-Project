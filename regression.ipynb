{
 "cells": [
  {
   "cell_type": "code",
   "execution_count": 2,
   "metadata": {
    "_cell_guid": "31f17e77-5188-4379-a783-368aa83cc98a",
    "_uuid": "33d899f632e11bab5d39d15860752de0cbb9e1a0"
   },
   "outputs": [
    {
     "name": "stdout",
     "output_type": "stream",
     "text": [
      "<class 'pandas.core.frame.DataFrame'>\n",
      "RangeIndex: 659360 entries, 0 to 659359\n",
      "Data columns (total 10 columns):\n",
      "Unnamed: 0    659360 non-null int64\n",
      "Date          659359 non-null object\n",
      "Open          658997 non-null float64\n",
      "High          658974 non-null float64\n",
      "Low           659025 non-null float64\n",
      "Close         658997 non-null float64\n",
      "Volume        659360 non-null object\n",
      "Market.Cap    659360 non-null object\n",
      "coin          659360 non-null object\n",
      "Delta         658981 non-null float64\n",
      "dtypes: float64(5), int64(1), object(4)\n",
      "memory usage: 50.3+ MB\n"
     ]
    },
    {
     "data": {
      "text/html": [
       "<div>\n",
       "<style>\n",
       "    .dataframe thead tr:only-child th {\n",
       "        text-align: right;\n",
       "    }\n",
       "\n",
       "    .dataframe thead th {\n",
       "        text-align: left;\n",
       "    }\n",
       "\n",
       "    .dataframe tbody tr th {\n",
       "        vertical-align: top;\n",
       "    }\n",
       "</style>\n",
       "<table border=\"1\" class=\"dataframe\">\n",
       "  <thead>\n",
       "    <tr style=\"text-align: right;\">\n",
       "      <th></th>\n",
       "      <th>Date</th>\n",
       "      <th>Open</th>\n",
       "      <th>High</th>\n",
       "      <th>Low</th>\n",
       "      <th>Close</th>\n",
       "      <th>Volume</th>\n",
       "      <th>Market.Cap</th>\n",
       "      <th>coin</th>\n",
       "      <th>Delta</th>\n",
       "    </tr>\n",
       "  </thead>\n",
       "  <tbody>\n",
       "    <tr>\n",
       "      <th>0</th>\n",
       "      <td>2018-01-09</td>\n",
       "      <td>15123.7</td>\n",
       "      <td>15497.5</td>\n",
       "      <td>14424.0</td>\n",
       "      <td>14595.4</td>\n",
       "      <td>16,660,000,000</td>\n",
       "      <td>253,935,000,000</td>\n",
       "      <td>BTC</td>\n",
       "      <td>-0.034932</td>\n",
       "    </tr>\n",
       "    <tr>\n",
       "      <th>1</th>\n",
       "      <td>2018-01-08</td>\n",
       "      <td>16476.2</td>\n",
       "      <td>16537.9</td>\n",
       "      <td>14208.2</td>\n",
       "      <td>15170.1</td>\n",
       "      <td>18,413,900,000</td>\n",
       "      <td>276,612,000,000</td>\n",
       "      <td>BTC</td>\n",
       "      <td>-0.079272</td>\n",
       "    </tr>\n",
       "    <tr>\n",
       "      <th>2</th>\n",
       "      <td>2018-01-07</td>\n",
       "      <td>17527.3</td>\n",
       "      <td>17579.6</td>\n",
       "      <td>16087.7</td>\n",
       "      <td>16477.6</td>\n",
       "      <td>15,866,000,000</td>\n",
       "      <td>294,222,000,000</td>\n",
       "      <td>BTC</td>\n",
       "      <td>-0.059889</td>\n",
       "    </tr>\n",
       "    <tr>\n",
       "      <th>3</th>\n",
       "      <td>2018-01-06</td>\n",
       "      <td>17462.1</td>\n",
       "      <td>17712.4</td>\n",
       "      <td>16764.6</td>\n",
       "      <td>17527.0</td>\n",
       "      <td>18,314,600,000</td>\n",
       "      <td>293,091,000,000</td>\n",
       "      <td>BTC</td>\n",
       "      <td>0.003717</td>\n",
       "    </tr>\n",
       "    <tr>\n",
       "      <th>4</th>\n",
       "      <td>2018-01-05</td>\n",
       "      <td>15477.2</td>\n",
       "      <td>17705.2</td>\n",
       "      <td>15202.8</td>\n",
       "      <td>17429.5</td>\n",
       "      <td>23,840,900,000</td>\n",
       "      <td>259,748,000,000</td>\n",
       "      <td>BTC</td>\n",
       "      <td>0.126140</td>\n",
       "    </tr>\n",
       "  </tbody>\n",
       "</table>\n",
       "</div>"
      ],
      "text/plain": [
       "         Date     Open     High      Low    Close          Volume  \\\n",
       "0  2018-01-09  15123.7  15497.5  14424.0  14595.4  16,660,000,000   \n",
       "1  2018-01-08  16476.2  16537.9  14208.2  15170.1  18,413,900,000   \n",
       "2  2018-01-07  17527.3  17579.6  16087.7  16477.6  15,866,000,000   \n",
       "3  2018-01-06  17462.1  17712.4  16764.6  17527.0  18,314,600,000   \n",
       "4  2018-01-05  15477.2  17705.2  15202.8  17429.5  23,840,900,000   \n",
       "\n",
       "        Market.Cap coin     Delta  \n",
       "0  253,935,000,000  BTC -0.034932  \n",
       "1  276,612,000,000  BTC -0.079272  \n",
       "2  294,222,000,000  BTC -0.059889  \n",
       "3  293,091,000,000  BTC  0.003717  \n",
       "4  259,748,000,000  BTC  0.126140  "
      ]
     },
     "execution_count": 2,
     "metadata": {},
     "output_type": "execute_result"
    }
   ],
   "source": [
    "import numpy as np \n",
    "import pandas as pd\n",
    "import os\n",
    "os.chdir(\"C:/Users/sudarshan/FYP/Data\")\n",
    "import matplotlib.pyplot as plt\n",
    "import seaborn as sns\n",
    "%matplotlib inline\n",
    "\n",
    "crypto = pd.read_csv('CryptocoinsHistoricalPrices.csv')\n",
    "crypto.head()\n",
    "\n",
    "\n",
    "crypto.info()\n",
    "crypto.describe()\n",
    "\n",
    "crypto.columns\n",
    "\n",
    "crypto.drop(['Unnamed: 0'], axis=1, inplace=True)\n",
    "\n",
    "crypto.head()\n"
   ]
  },
  {
   "cell_type": "code",
   "execution_count": 3,
   "metadata": {
    "_cell_guid": "c624bca1-f229-4220-bddd-f9664d77e6dc",
    "_uuid": "6f422a8cdd862cab3d75b3a7c89f6d384c77c5f5",
    "collapsed": true
   },
   "outputs": [],
   "source": [
    "crypto.dropna(axis=0, inplace=True)\n",
    "crypto['Year']=crypto['Date'].apply(lambda x: x.split('-')[0])"
   ]
  },
  {
   "cell_type": "code",
   "execution_count": 4,
   "metadata": {
    "_cell_guid": "fa088b9e-968f-4954-8d35-22f97bfd2305",
    "_uuid": "2077b1f4448ceceee5e81cabd3a83625c87d0003",
    "collapsed": true
   },
   "outputs": [],
   "source": [
    "df= crypto[crypto['Market.Cap']!='-']"
   ]
  },
  {
   "cell_type": "code",
   "execution_count": 5,
   "metadata": {
    "_cell_guid": "f8aa6f0f-c45b-4336-a5d8-a6f30991b292",
    "_uuid": "518ca743edb20fee5fc68f22efebc132e990ea8c",
    "collapsed": true
   },
   "outputs": [],
   "source": [
    "#removing , from market cap data"
   ]
  },
  {
   "cell_type": "code",
   "execution_count": 6,
   "metadata": {
    "_cell_guid": "677a3846-8d42-4602-a6bc-cc90968b4a99",
    "_uuid": "3d5031985434474647ac16bf8ddca77d760f73b1"
   },
   "outputs": [
    {
     "name": "stderr",
     "output_type": "stream",
     "text": [
      "C:\\Users\\sudarshan\\Anaconda3\\lib\\site-packages\\ipykernel_launcher.py:1: SettingWithCopyWarning: \n",
      "A value is trying to be set on a copy of a slice from a DataFrame.\n",
      "Try using .loc[row_indexer,col_indexer] = value instead\n",
      "\n",
      "See the caveats in the documentation: http://pandas.pydata.org/pandas-docs/stable/indexing.html#indexing-view-versus-copy\n",
      "  \"\"\"Entry point for launching an IPython kernel.\n",
      "C:\\Users\\sudarshan\\Anaconda3\\lib\\site-packages\\ipykernel_launcher.py:2: SettingWithCopyWarning: \n",
      "A value is trying to be set on a copy of a slice from a DataFrame.\n",
      "Try using .loc[row_indexer,col_indexer] = value instead\n",
      "\n",
      "See the caveats in the documentation: http://pandas.pydata.org/pandas-docs/stable/indexing.html#indexing-view-versus-copy\n",
      "  \n"
     ]
    }
   ],
   "source": [
    "df['Market.Cap'] = df['Market.Cap'].str.replace(',', '')\n",
    "df['Market.Cap']=df['Market.Cap'].astype(float)"
   ]
  },
  {
   "cell_type": "code",
   "execution_count": 7,
   "metadata": {
    "_cell_guid": "f9c1e211-99e7-42ee-bbfc-d981db2a7787",
    "_uuid": "ad20f713fcba02e8d1d9dfa28f788769c319fcae",
    "collapsed": true
   },
   "outputs": [],
   "source": [
    "#using data from 2017 year"
   ]
  },
  {
   "cell_type": "code",
   "execution_count": 8,
   "metadata": {
    "_cell_guid": "3ab379a1-4391-4716-a971-68e2cd0097b2",
    "_uuid": "99c078ff5f18f8e9f0e6aaa0e4782d24c27e808c",
    "collapsed": true
   },
   "outputs": [],
   "source": [
    "df= df[df['Year']=='2017']"
   ]
  },
  {
   "cell_type": "code",
   "execution_count": 9,
   "metadata": {
    "_cell_guid": "4db689d2-1148-4c60-9ed2-f704abecd889",
    "_uuid": "f4ecf06cf0d580e02a93b194856b5f62bc27e7c5",
    "collapsed": true
   },
   "outputs": [],
   "source": [
    "#checking most prominent currencies by checking market cap\n",
    "temp_df= df.sort_values('Market.Cap', ascending=False)\n",
    "temp_df = temp_df.head(25000)\n",
    "\n",
    "#we took 10% of the top market values to pick up are favourite cryptos here, \n",
    "#strange to see BTC is lower to LTC and XRP"
   ]
  },
  {
   "cell_type": "code",
   "execution_count": 10,
   "metadata": {
    "_cell_guid": "8b91fd2a-3c2d-4fa5-bc0b-45e209830585",
    "_uuid": "fcccd05b42c207206dc196fd7bcfe3d12a5eec7b",
    "collapsed": true
   },
   "outputs": [],
   "source": [
    "coins_type=temp_df.groupby('coin').count().sort_values(by='Volume',ascending=False).head(10)"
   ]
  },
  {
   "cell_type": "code",
   "execution_count": 11,
   "metadata": {
    "_cell_guid": "55430737-effa-4495-9285-0b26f0dc47b1",
    "_uuid": "84880d97a78f5ee9ea181ccb6184c0004df0cc73"
   },
   "outputs": [
    {
     "data": {
      "text/html": [
       "<div>\n",
       "<style>\n",
       "    .dataframe thead tr:only-child th {\n",
       "        text-align: right;\n",
       "    }\n",
       "\n",
       "    .dataframe thead th {\n",
       "        text-align: left;\n",
       "    }\n",
       "\n",
       "    .dataframe tbody tr th {\n",
       "        vertical-align: top;\n",
       "    }\n",
       "</style>\n",
       "<table border=\"1\" class=\"dataframe\">\n",
       "  <thead>\n",
       "    <tr style=\"text-align: right;\">\n",
       "      <th></th>\n",
       "      <th>Date</th>\n",
       "      <th>Open</th>\n",
       "      <th>High</th>\n",
       "      <th>Low</th>\n",
       "      <th>Close</th>\n",
       "      <th>Volume</th>\n",
       "      <th>Market.Cap</th>\n",
       "      <th>Delta</th>\n",
       "      <th>Year</th>\n",
       "    </tr>\n",
       "    <tr>\n",
       "      <th>coin</th>\n",
       "      <th></th>\n",
       "      <th></th>\n",
       "      <th></th>\n",
       "      <th></th>\n",
       "      <th></th>\n",
       "      <th></th>\n",
       "      <th></th>\n",
       "      <th></th>\n",
       "      <th></th>\n",
       "    </tr>\n",
       "  </thead>\n",
       "  <tbody>\n",
       "    <tr>\n",
       "      <th>LTC</th>\n",
       "      <td>365</td>\n",
       "      <td>365</td>\n",
       "      <td>365</td>\n",
       "      <td>365</td>\n",
       "      <td>365</td>\n",
       "      <td>365</td>\n",
       "      <td>365</td>\n",
       "      <td>365</td>\n",
       "      <td>365</td>\n",
       "    </tr>\n",
       "    <tr>\n",
       "      <th>XRP</th>\n",
       "      <td>365</td>\n",
       "      <td>365</td>\n",
       "      <td>365</td>\n",
       "      <td>365</td>\n",
       "      <td>365</td>\n",
       "      <td>365</td>\n",
       "      <td>365</td>\n",
       "      <td>365</td>\n",
       "      <td>365</td>\n",
       "    </tr>\n",
       "    <tr>\n",
       "      <th>BTC</th>\n",
       "      <td>365</td>\n",
       "      <td>365</td>\n",
       "      <td>365</td>\n",
       "      <td>365</td>\n",
       "      <td>365</td>\n",
       "      <td>365</td>\n",
       "      <td>365</td>\n",
       "      <td>365</td>\n",
       "      <td>365</td>\n",
       "    </tr>\n",
       "    <tr>\n",
       "      <th>DASH</th>\n",
       "      <td>365</td>\n",
       "      <td>365</td>\n",
       "      <td>365</td>\n",
       "      <td>365</td>\n",
       "      <td>365</td>\n",
       "      <td>365</td>\n",
       "      <td>365</td>\n",
       "      <td>365</td>\n",
       "      <td>365</td>\n",
       "    </tr>\n",
       "    <tr>\n",
       "      <th>ETH</th>\n",
       "      <td>365</td>\n",
       "      <td>365</td>\n",
       "      <td>365</td>\n",
       "      <td>365</td>\n",
       "      <td>365</td>\n",
       "      <td>365</td>\n",
       "      <td>365</td>\n",
       "      <td>365</td>\n",
       "      <td>365</td>\n",
       "    </tr>\n",
       "    <tr>\n",
       "      <th>ETC</th>\n",
       "      <td>365</td>\n",
       "      <td>365</td>\n",
       "      <td>365</td>\n",
       "      <td>365</td>\n",
       "      <td>365</td>\n",
       "      <td>365</td>\n",
       "      <td>365</td>\n",
       "      <td>365</td>\n",
       "      <td>365</td>\n",
       "    </tr>\n",
       "    <tr>\n",
       "      <th>REP</th>\n",
       "      <td>365</td>\n",
       "      <td>365</td>\n",
       "      <td>365</td>\n",
       "      <td>365</td>\n",
       "      <td>365</td>\n",
       "      <td>365</td>\n",
       "      <td>365</td>\n",
       "      <td>365</td>\n",
       "      <td>365</td>\n",
       "    </tr>\n",
       "    <tr>\n",
       "      <th>XMR</th>\n",
       "      <td>365</td>\n",
       "      <td>365</td>\n",
       "      <td>365</td>\n",
       "      <td>365</td>\n",
       "      <td>365</td>\n",
       "      <td>365</td>\n",
       "      <td>365</td>\n",
       "      <td>365</td>\n",
       "      <td>365</td>\n",
       "    </tr>\n",
       "    <tr>\n",
       "      <th>MAID</th>\n",
       "      <td>365</td>\n",
       "      <td>365</td>\n",
       "      <td>365</td>\n",
       "      <td>365</td>\n",
       "      <td>365</td>\n",
       "      <td>365</td>\n",
       "      <td>365</td>\n",
       "      <td>365</td>\n",
       "      <td>365</td>\n",
       "    </tr>\n",
       "    <tr>\n",
       "      <th>XEM</th>\n",
       "      <td>340</td>\n",
       "      <td>340</td>\n",
       "      <td>340</td>\n",
       "      <td>340</td>\n",
       "      <td>340</td>\n",
       "      <td>340</td>\n",
       "      <td>340</td>\n",
       "      <td>340</td>\n",
       "      <td>340</td>\n",
       "    </tr>\n",
       "  </tbody>\n",
       "</table>\n",
       "</div>"
      ],
      "text/plain": [
       "      Date  Open  High  Low  Close  Volume  Market.Cap  Delta  Year\n",
       "coin                                                               \n",
       "LTC    365   365   365  365    365     365         365    365   365\n",
       "XRP    365   365   365  365    365     365         365    365   365\n",
       "BTC    365   365   365  365    365     365         365    365   365\n",
       "DASH   365   365   365  365    365     365         365    365   365\n",
       "ETH    365   365   365  365    365     365         365    365   365\n",
       "ETC    365   365   365  365    365     365         365    365   365\n",
       "REP    365   365   365  365    365     365         365    365   365\n",
       "XMR    365   365   365  365    365     365         365    365   365\n",
       "MAID   365   365   365  365    365     365         365    365   365\n",
       "XEM    340   340   340  340    340     340         340    340   340"
      ]
     },
     "execution_count": 11,
     "metadata": {},
     "output_type": "execute_result"
    }
   ],
   "source": [
    "coins_type"
   ]
  },
  {
   "cell_type": "code",
   "execution_count": 12,
   "metadata": {
    "_cell_guid": "f2532855-ea28-4d30-8a5f-d86fec13a558",
    "_uuid": "c566f3df65e51f9c769f1dc8e92e1e8144794a4c",
    "collapsed": true
   },
   "outputs": [],
   "source": [
    "top_coins_name=list(coins_type.index)"
   ]
  },
  {
   "cell_type": "code",
   "execution_count": 13,
   "metadata": {
    "_cell_guid": "c378c5fb-1ca2-4544-8178-529a4d627712",
    "_uuid": "a559cfa8134bd5c5e1848e7e6cd9572615873e80",
    "collapsed": true
   },
   "outputs": [],
   "source": [
    "df_top = df[df['coin'].isin(top_coins_name)]"
   ]
  },
  {
   "cell_type": "code",
   "execution_count": 14,
   "metadata": {
    "_cell_guid": "e308e305-dc1b-4d2b-96d2-0b9af8dbce05",
    "_uuid": "8ff07e430361c678ab8dbf35f1d0dae092da0dc2"
   },
   "outputs": [
    {
     "data": {
      "text/html": [
       "<div>\n",
       "<style>\n",
       "    .dataframe thead tr:only-child th {\n",
       "        text-align: right;\n",
       "    }\n",
       "\n",
       "    .dataframe thead th {\n",
       "        text-align: left;\n",
       "    }\n",
       "\n",
       "    .dataframe tbody tr th {\n",
       "        vertical-align: top;\n",
       "    }\n",
       "</style>\n",
       "<table border=\"1\" class=\"dataframe\">\n",
       "  <thead>\n",
       "    <tr style=\"text-align: right;\">\n",
       "      <th></th>\n",
       "      <th>Date</th>\n",
       "      <th>Open</th>\n",
       "      <th>High</th>\n",
       "      <th>Low</th>\n",
       "      <th>Close</th>\n",
       "      <th>Volume</th>\n",
       "      <th>Market.Cap</th>\n",
       "      <th>coin</th>\n",
       "      <th>Delta</th>\n",
       "      <th>Year</th>\n",
       "    </tr>\n",
       "  </thead>\n",
       "  <tbody>\n",
       "    <tr>\n",
       "      <th>9</th>\n",
       "      <td>2017-12-31</td>\n",
       "      <td>12897.7</td>\n",
       "      <td>14377.4</td>\n",
       "      <td>12755.6</td>\n",
       "      <td>14156.4</td>\n",
       "      <td>12,136,300,000</td>\n",
       "      <td>2.163260e+11</td>\n",
       "      <td>BTC</td>\n",
       "      <td>0.097591</td>\n",
       "      <td>2017</td>\n",
       "    </tr>\n",
       "    <tr>\n",
       "      <th>10</th>\n",
       "      <td>2017-12-30</td>\n",
       "      <td>14681.9</td>\n",
       "      <td>14681.9</td>\n",
       "      <td>12350.1</td>\n",
       "      <td>12952.2</td>\n",
       "      <td>14,452,600,000</td>\n",
       "      <td>2.462240e+11</td>\n",
       "      <td>BTC</td>\n",
       "      <td>-0.117812</td>\n",
       "      <td>2017</td>\n",
       "    </tr>\n",
       "    <tr>\n",
       "      <th>11</th>\n",
       "      <td>2017-12-29</td>\n",
       "      <td>14695.8</td>\n",
       "      <td>15279.0</td>\n",
       "      <td>14307.0</td>\n",
       "      <td>14656.2</td>\n",
       "      <td>13,025,500,000</td>\n",
       "      <td>2.464280e+11</td>\n",
       "      <td>BTC</td>\n",
       "      <td>-0.002695</td>\n",
       "      <td>2017</td>\n",
       "    </tr>\n",
       "    <tr>\n",
       "      <th>12</th>\n",
       "      <td>2017-12-28</td>\n",
       "      <td>15864.1</td>\n",
       "      <td>15888.4</td>\n",
       "      <td>13937.3</td>\n",
       "      <td>14606.5</td>\n",
       "      <td>12,336,500,000</td>\n",
       "      <td>2.659880e+11</td>\n",
       "      <td>BTC</td>\n",
       "      <td>-0.079273</td>\n",
       "      <td>2017</td>\n",
       "    </tr>\n",
       "    <tr>\n",
       "      <th>13</th>\n",
       "      <td>2017-12-27</td>\n",
       "      <td>16163.5</td>\n",
       "      <td>16930.9</td>\n",
       "      <td>15114.3</td>\n",
       "      <td>15838.5</td>\n",
       "      <td>12,487,600,000</td>\n",
       "      <td>2.709760e+11</td>\n",
       "      <td>BTC</td>\n",
       "      <td>-0.020107</td>\n",
       "      <td>2017</td>\n",
       "    </tr>\n",
       "  </tbody>\n",
       "</table>\n",
       "</div>"
      ],
      "text/plain": [
       "          Date     Open     High      Low    Close          Volume  \\\n",
       "9   2017-12-31  12897.7  14377.4  12755.6  14156.4  12,136,300,000   \n",
       "10  2017-12-30  14681.9  14681.9  12350.1  12952.2  14,452,600,000   \n",
       "11  2017-12-29  14695.8  15279.0  14307.0  14656.2  13,025,500,000   \n",
       "12  2017-12-28  15864.1  15888.4  13937.3  14606.5  12,336,500,000   \n",
       "13  2017-12-27  16163.5  16930.9  15114.3  15838.5  12,487,600,000   \n",
       "\n",
       "      Market.Cap coin     Delta  Year  \n",
       "9   2.163260e+11  BTC  0.097591  2017  \n",
       "10  2.462240e+11  BTC -0.117812  2017  \n",
       "11  2.464280e+11  BTC -0.002695  2017  \n",
       "12  2.659880e+11  BTC -0.079273  2017  \n",
       "13  2.709760e+11  BTC -0.020107  2017  "
      ]
     },
     "execution_count": 14,
     "metadata": {},
     "output_type": "execute_result"
    }
   ],
   "source": [
    "df_top.head()"
   ]
  },
  {
   "cell_type": "code",
   "execution_count": 15,
   "metadata": {
    "_cell_guid": "e878037f-6cd0-431f-a1b7-c49c21b3977e",
    "_uuid": "9c5535d887cfe3b7bfbf0a912516928afa593ed8"
   },
   "outputs": [
    {
     "name": "stderr",
     "output_type": "stream",
     "text": [
      "C:\\Users\\sudarshan\\Anaconda3\\lib\\site-packages\\ipykernel_launcher.py:1: SettingWithCopyWarning: \n",
      "A value is trying to be set on a copy of a slice from a DataFrame.\n",
      "Try using .loc[row_indexer,col_indexer] = value instead\n",
      "\n",
      "See the caveats in the documentation: http://pandas.pydata.org/pandas-docs/stable/indexing.html#indexing-view-versus-copy\n",
      "  \"\"\"Entry point for launching an IPython kernel.\n"
     ]
    }
   ],
   "source": [
    "df_top['Month']=df_top['Date'].apply(lambda x: x.split('-')[1])"
   ]
  },
  {
   "cell_type": "code",
   "execution_count": 16,
   "metadata": {
    "_cell_guid": "1e5b532d-3a33-4515-80f7-7b0ef7742403",
    "_uuid": "48af9b36bc0b9571162305a48fef058631531e7e"
   },
   "outputs": [
    {
     "name": "stdout",
     "output_type": "stream",
     "text": [
      "<class 'pandas.core.frame.DataFrame'>\n",
      "Int64Index: 3650 entries, 9 to 40477\n",
      "Data columns (total 11 columns):\n",
      "Date          3650 non-null object\n",
      "Open          3650 non-null float64\n",
      "High          3650 non-null float64\n",
      "Low           3650 non-null float64\n",
      "Close         3650 non-null float64\n",
      "Volume        3650 non-null object\n",
      "Market.Cap    3650 non-null float64\n",
      "coin          3650 non-null object\n",
      "Delta         3650 non-null float64\n",
      "Year          3650 non-null object\n",
      "Month         3650 non-null object\n",
      "dtypes: float64(6), object(5)\n",
      "memory usage: 342.2+ KB\n"
     ]
    }
   ],
   "source": [
    "df_top.head()\n",
    "df_top.info()"
   ]
  },
  {
   "cell_type": "code",
   "execution_count": 17,
   "metadata": {
    "_cell_guid": "d1afedbe-d789-4fd8-8d1d-bf30d76182a5",
    "_uuid": "7c9a0ec10e86e700a9bf93f26bd3fa7e41b12a08"
   },
   "outputs": [
    {
     "name": "stderr",
     "output_type": "stream",
     "text": [
      "C:\\Users\\sudarshan\\Anaconda3\\lib\\site-packages\\ipykernel_launcher.py:2: SettingWithCopyWarning: \n",
      "A value is trying to be set on a copy of a slice from a DataFrame.\n",
      "Try using .loc[row_indexer,col_indexer] = value instead\n",
      "\n",
      "See the caveats in the documentation: http://pandas.pydata.org/pandas-docs/stable/indexing.html#indexing-view-versus-copy\n",
      "  \n",
      "C:\\Users\\sudarshan\\Anaconda3\\lib\\site-packages\\ipykernel_launcher.py:3: SettingWithCopyWarning: \n",
      "A value is trying to be set on a copy of a slice from a DataFrame.\n",
      "Try using .loc[row_indexer,col_indexer] = value instead\n",
      "\n",
      "See the caveats in the documentation: http://pandas.pydata.org/pandas-docs/stable/indexing.html#indexing-view-versus-copy\n",
      "  This is separate from the ipykernel package so we can avoid doing imports until\n"
     ]
    }
   ],
   "source": [
    "#Volume comparison\n",
    "df_top['Volume'] = df_top['Volume'].str.replace(',', '')\n",
    "df_top['Volume']=df_top['Volume'].astype(float)\n"
   ]
  },
  {
   "cell_type": "code",
   "execution_count": 18,
   "metadata": {
    "_cell_guid": "b4c1adbe-71c0-4838-8ee3-156a00259000",
    "_uuid": "e60cf5c7c51631289ed394221af1547564a2d078"
   },
   "outputs": [
    {
     "data": {
      "text/plain": [
       "<matplotlib.axes._subplots.AxesSubplot at 0x1fe3a2abda0>"
      ]
     },
     "execution_count": 18,
     "metadata": {},
     "output_type": "execute_result"
    },
    {
     "data": {
      "image/png": "[encoded data removed]",
      "text/plain": [
       "<matplotlib.figure.Figure at 0x1fe3a2abdd8>"
      ]
     },
     "metadata": {},
     "output_type": "display_data"
    }
   ],
   "source": [
    "#barplot\n",
    "plt.figure(figsize=(12,6))\n",
    "sns.barplot(x='coin', y='Volume', data=df_top, estimator=np.mean)"
   ]
  },
  {
   "cell_type": "code",
   "execution_count": 19,
   "metadata": {
    "_cell_guid": "88ac56bc-3da3-4e73-8dbd-1ef9a4090b9a",
    "_uuid": "7ed5e02630158763aeb8dad5602af6eaa7696d73",
    "collapsed": true
   },
   "outputs": [],
   "source": [
    "#BTC has most volume followed by ETH, LTC, XRP and small chunks on ETC, DASH, XMR, XEM"
   ]
  },
  {
   "cell_type": "code",
   "execution_count": 20,
   "metadata": {
    "_cell_guid": "b1a49ea5-01ce-471c-b336-7a4cf5b1fafc",
    "_uuid": "52578b3a0f29c91415b008e2a94037d780d7fe0f",
    "collapsed": true
   },
   "outputs": [],
   "source": [
    "#line chart for openining values of bitcoin"
   ]
  },
  {
   "cell_type": "code",
   "execution_count": 84,
   "metadata": {
    "_cell_guid": "73e04f67-9fb6-4b19-8590-857924448005",
    "_uuid": "207a674e8c37af4cf7963a260ac26406442a5385"
   },
   "outputs": [],
   "source": [
    "rip_table = df_btc = df[df['coin']=='REP']"
   ]
  },
  {
   "cell_type": "code",
   "execution_count": 85,
   "metadata": {
    "_cell_guid": "1ca9503f-8945-4030-a307-e6607135acf5",
    "_uuid": "22bfbeb54e8b9d434349f7fa291c111111a94e72"
   },
   "outputs": [
    {
     "data": {
      "text/html": [
       "<div>\n",
       "<style>\n",
       "    .dataframe thead tr:only-child th {\n",
       "        text-align: right;\n",
       "    }\n",
       "\n",
       "    .dataframe thead th {\n",
       "        text-align: left;\n",
       "    }\n",
       "\n",
       "    .dataframe tbody tr th {\n",
       "        vertical-align: top;\n",
       "    }\n",
       "</style>\n",
       "<table border=\"1\" class=\"dataframe\">\n",
       "  <thead>\n",
       "    <tr style=\"text-align: right;\">\n",
       "      <th></th>\n",
       "      <th>Date</th>\n",
       "      <th>Open</th>\n",
       "      <th>High</th>\n",
       "      <th>Low</th>\n",
       "      <th>Close</th>\n",
       "      <th>Volume</th>\n",
       "      <th>Market.Cap</th>\n",
       "      <th>coin</th>\n",
       "      <th>Delta</th>\n",
       "      <th>Year</th>\n",
       "    </tr>\n",
       "  </thead>\n",
       "  <tbody>\n",
       "    <tr>\n",
       "      <th>25382</th>\n",
       "      <td>2017-12-31</td>\n",
       "      <td>64.74</td>\n",
       "      <td>71.39</td>\n",
       "      <td>63.76</td>\n",
       "      <td>70.07</td>\n",
       "      <td>5,779,320</td>\n",
       "      <td>712114000.0</td>\n",
       "      <td>REP</td>\n",
       "      <td>0.082329</td>\n",
       "      <td>2017</td>\n",
       "    </tr>\n",
       "    <tr>\n",
       "      <th>25383</th>\n",
       "      <td>2017-12-30</td>\n",
       "      <td>76.20</td>\n",
       "      <td>76.20</td>\n",
       "      <td>62.46</td>\n",
       "      <td>65.83</td>\n",
       "      <td>11,058,300</td>\n",
       "      <td>838231000.0</td>\n",
       "      <td>REP</td>\n",
       "      <td>-0.136089</td>\n",
       "      <td>2017</td>\n",
       "    </tr>\n",
       "    <tr>\n",
       "      <th>25384</th>\n",
       "      <td>2017-12-29</td>\n",
       "      <td>74.35</td>\n",
       "      <td>78.12</td>\n",
       "      <td>71.32</td>\n",
       "      <td>76.52</td>\n",
       "      <td>12,299,500</td>\n",
       "      <td>817845000.0</td>\n",
       "      <td>REP</td>\n",
       "      <td>0.029186</td>\n",
       "      <td>2017</td>\n",
       "    </tr>\n",
       "    <tr>\n",
       "      <th>25385</th>\n",
       "      <td>2017-12-28</td>\n",
       "      <td>80.23</td>\n",
       "      <td>80.23</td>\n",
       "      <td>67.27</td>\n",
       "      <td>74.24</td>\n",
       "      <td>11,699,200</td>\n",
       "      <td>882535000.0</td>\n",
       "      <td>REP</td>\n",
       "      <td>-0.074660</td>\n",
       "      <td>2017</td>\n",
       "    </tr>\n",
       "    <tr>\n",
       "      <th>25386</th>\n",
       "      <td>2017-12-27</td>\n",
       "      <td>85.59</td>\n",
       "      <td>85.59</td>\n",
       "      <td>76.63</td>\n",
       "      <td>80.54</td>\n",
       "      <td>14,184,900</td>\n",
       "      <td>941539000.0</td>\n",
       "      <td>REP</td>\n",
       "      <td>-0.059002</td>\n",
       "      <td>2017</td>\n",
       "    </tr>\n",
       "  </tbody>\n",
       "</table>\n",
       "</div>"
      ],
      "text/plain": [
       "             Date   Open   High    Low  Close      Volume   Market.Cap coin  \\\n",
       "25382  2017-12-31  64.74  71.39  63.76  70.07   5,779,320  712114000.0  REP   \n",
       "25383  2017-12-30  76.20  76.20  62.46  65.83  11,058,300  838231000.0  REP   \n",
       "25384  2017-12-29  74.35  78.12  71.32  76.52  12,299,500  817845000.0  REP   \n",
       "25385  2017-12-28  80.23  80.23  67.27  74.24  11,699,200  882535000.0  REP   \n",
       "25386  2017-12-27  85.59  85.59  76.63  80.54  14,184,900  941539000.0  REP   \n",
       "\n",
       "          Delta  Year  \n",
       "25382  0.082329  2017  \n",
       "25383 -0.136089  2017  \n",
       "25384  0.029186  2017  \n",
       "25385 -0.074660  2017  \n",
       "25386 -0.059002  2017  "
      ]
     },
     "execution_count": 85,
     "metadata": {},
     "output_type": "execute_result"
    }
   ],
   "source": [
    "#checking correlation for picking up dependent and independent variables\n",
    "rip_table.head()"
   ]
  },
  {
   "cell_type": "code",
   "execution_count": 86,
   "metadata": {
    "_cell_guid": "5e80377c-bb21-4f30-905a-79239fcc148f",
    "_uuid": "f1af21fb5345adbefb1e571a4705591304c9b453"
   },
   "outputs": [
    {
     "data": {
      "text/plain": [
       "<matplotlib.axes._subplots.AxesSubplot at 0x1fe3b85d0b8>"
      ]
     },
     "execution_count": 86,
     "metadata": {},
     "output_type": "execute_result"
    },
    {
     "data": {
      "image/png": "[encoded data removed]",
      "text/plain": [
       "<matplotlib.figure.Figure at 0x1fe3b85da20>"
      ]
     },
     "metadata": {},
     "output_type": "display_data"
    }
   ],
   "source": [
    "#for ripple\n",
    "sns.heatmap(rip_table.corr(),annot=True)"
   ]
  },
  {
   "cell_type": "code",
   "execution_count": 87,
   "metadata": {
    "_cell_guid": "db4ac48b-1828-4446-ada2-9e76f6c0332c",
    "_uuid": "60e9b737cd23d6c554f8bee0851bbf47c6f66b24",
    "collapsed": true
   },
   "outputs": [],
   "source": [
    "#delta is not correlated much with \"close\". Close will be our dependent variable ie y "
   ]
  },
  {
   "cell_type": "code",
   "execution_count": 88,
   "metadata": {
    "_cell_guid": "a535c340-d376-4858-bec3-eadc87f0c356",
    "_uuid": "3f245e2915a12d586b154c9494a828b2eeab11c1"
   },
   "outputs": [
    {
     "name": "stdout",
     "output_type": "stream",
     "text": [
      "<class 'pandas.core.frame.DataFrame'>\n",
      "Int64Index: 365 entries, 25382 to 25746\n",
      "Data columns (total 10 columns):\n",
      "Date          365 non-null object\n",
      "Open          365 non-null float64\n",
      "High          365 non-null float64\n",
      "Low           365 non-null float64\n",
      "Close         365 non-null float64\n",
      "Volume        365 non-null object\n",
      "Market.Cap    365 non-null float64\n",
      "coin          365 non-null object\n",
      "Delta         365 non-null float64\n",
      "Year          365 non-null object\n",
      "dtypes: float64(6), object(4)\n",
      "memory usage: 31.4+ KB\n"
     ]
    }
   ],
   "source": [
    "rip_table.info()\n",
    "#We will remove the columns of object type and delta, since they are not much relevant.\n",
    "#Also, we will remove high and low, since they are determing the outcome"
   ]
  },
  {
   "cell_type": "code",
   "execution_count": 89,
   "metadata": {
    "_cell_guid": "e8851ebe-3082-461a-b9bd-3a32172c2681",
    "_uuid": "f5bcaa5bbae838e189b034815a652b08d64d8b42"
   },
   "outputs": [
    {
     "data": {
      "text/plain": [
       "Index(['Date', 'Open', 'High', 'Low', 'Close', 'Volume', 'Market.Cap', 'coin',\n",
       "       'Delta', 'Year'],\n",
       "      dtype='object')"
      ]
     },
     "execution_count": 89,
     "metadata": {},
     "output_type": "execute_result"
    }
   ],
   "source": [
    "rip_table.columns"
   ]
  },
  {
   "cell_type": "code",
   "execution_count": 91,
   "metadata": {
    "_cell_guid": "d61a44d1-bc05-40c5-8023-a276da57813b",
    "_uuid": "c53bca00cded3022b23b450169922d92f91652e7"
   },
   "outputs": [
    {
     "name": "stderr",
     "output_type": "stream",
     "text": [
      "C:\\Users\\sudarshan\\Anaconda3\\lib\\site-packages\\ipykernel_launcher.py:1: SettingWithCopyWarning: \n",
      "A value is trying to be set on a copy of a slice from a DataFrame.\n",
      "Try using .loc[row_indexer,col_indexer] = value instead\n",
      "\n",
      "See the caveats in the documentation: http://pandas.pydata.org/pandas-docs/stable/indexing.html#indexing-view-versus-copy\n",
      "  \"\"\"Entry point for launching an IPython kernel.\n",
      "C:\\Users\\sudarshan\\Anaconda3\\lib\\site-packages\\ipykernel_launcher.py:2: SettingWithCopyWarning: \n",
      "A value is trying to be set on a copy of a slice from a DataFrame.\n",
      "Try using .loc[row_indexer,col_indexer] = value instead\n",
      "\n",
      "See the caveats in the documentation: http://pandas.pydata.org/pandas-docs/stable/indexing.html#indexing-view-versus-copy\n",
      "  \n"
     ]
    },
    {
     "data": {
      "text/html": [
       "<div>\n",
       "<style>\n",
       "    .dataframe thead tr:only-child th {\n",
       "        text-align: right;\n",
       "    }\n",
       "\n",
       "    .dataframe thead th {\n",
       "        text-align: left;\n",
       "    }\n",
       "\n",
       "    .dataframe tbody tr th {\n",
       "        vertical-align: top;\n",
       "    }\n",
       "</style>\n",
       "<table border=\"1\" class=\"dataframe\">\n",
       "  <thead>\n",
       "    <tr style=\"text-align: right;\">\n",
       "      <th></th>\n",
       "      <th>Date</th>\n",
       "      <th>Open</th>\n",
       "      <th>High</th>\n",
       "      <th>Low</th>\n",
       "      <th>Close</th>\n",
       "      <th>Volume</th>\n",
       "      <th>Market.Cap</th>\n",
       "      <th>coin</th>\n",
       "      <th>Delta</th>\n",
       "      <th>Year</th>\n",
       "    </tr>\n",
       "  </thead>\n",
       "  <tbody>\n",
       "    <tr>\n",
       "      <th>25382</th>\n",
       "      <td>2017-12-31</td>\n",
       "      <td>64.74</td>\n",
       "      <td>71.39</td>\n",
       "      <td>63.76</td>\n",
       "      <td>70.07</td>\n",
       "      <td>5779320</td>\n",
       "      <td>712114000.0</td>\n",
       "      <td>REP</td>\n",
       "      <td>0.082329</td>\n",
       "      <td>2017</td>\n",
       "    </tr>\n",
       "    <tr>\n",
       "      <th>25383</th>\n",
       "      <td>2017-12-30</td>\n",
       "      <td>76.20</td>\n",
       "      <td>76.20</td>\n",
       "      <td>62.46</td>\n",
       "      <td>65.83</td>\n",
       "      <td>11058300</td>\n",
       "      <td>838231000.0</td>\n",
       "      <td>REP</td>\n",
       "      <td>-0.136089</td>\n",
       "      <td>2017</td>\n",
       "    </tr>\n",
       "    <tr>\n",
       "      <th>25384</th>\n",
       "      <td>2017-12-29</td>\n",
       "      <td>74.35</td>\n",
       "      <td>78.12</td>\n",
       "      <td>71.32</td>\n",
       "      <td>76.52</td>\n",
       "      <td>12299500</td>\n",
       "      <td>817845000.0</td>\n",
       "      <td>REP</td>\n",
       "      <td>0.029186</td>\n",
       "      <td>2017</td>\n",
       "    </tr>\n",
       "    <tr>\n",
       "      <th>25385</th>\n",
       "      <td>2017-12-28</td>\n",
       "      <td>80.23</td>\n",
       "      <td>80.23</td>\n",
       "      <td>67.27</td>\n",
       "      <td>74.24</td>\n",
       "      <td>11699200</td>\n",
       "      <td>882535000.0</td>\n",
       "      <td>REP</td>\n",
       "      <td>-0.074660</td>\n",
       "      <td>2017</td>\n",
       "    </tr>\n",
       "    <tr>\n",
       "      <th>25386</th>\n",
       "      <td>2017-12-27</td>\n",
       "      <td>85.59</td>\n",
       "      <td>85.59</td>\n",
       "      <td>76.63</td>\n",
       "      <td>80.54</td>\n",
       "      <td>14184900</td>\n",
       "      <td>941539000.0</td>\n",
       "      <td>REP</td>\n",
       "      <td>-0.059002</td>\n",
       "      <td>2017</td>\n",
       "    </tr>\n",
       "  </tbody>\n",
       "</table>\n",
       "</div>"
      ],
      "text/plain": [
       "             Date   Open   High    Low  Close    Volume   Market.Cap coin  \\\n",
       "25382  2017-12-31  64.74  71.39  63.76  70.07   5779320  712114000.0  REP   \n",
       "25383  2017-12-30  76.20  76.20  62.46  65.83  11058300  838231000.0  REP   \n",
       "25384  2017-12-29  74.35  78.12  71.32  76.52  12299500  817845000.0  REP   \n",
       "25385  2017-12-28  80.23  80.23  67.27  74.24  11699200  882535000.0  REP   \n",
       "25386  2017-12-27  85.59  85.59  76.63  80.54  14184900  941539000.0  REP   \n",
       "\n",
       "          Delta  Year  \n",
       "25382  0.082329  2017  \n",
       "25383 -0.136089  2017  \n",
       "25384  0.029186  2017  \n",
       "25385 -0.074660  2017  \n",
       "25386 -0.059002  2017  "
      ]
     },
     "execution_count": 91,
     "metadata": {},
     "output_type": "execute_result"
    }
   ],
   "source": [
    "rip_table['Volume']=rip_table['Volume'].str.replace(',','')\n",
    "rip_table['Volume']=rip_table['Volume']\n",
    "rip_table.head()"
   ]
  },
  {
   "cell_type": "code",
   "execution_count": 92,
   "metadata": {
    "_cell_guid": "a3b39aa9-0992-472e-b3ea-11d88b8b70f6",
    "_uuid": "6a1b0cd7cc6e43447bf83165067c4037e9460393",
    "collapsed": true
   },
   "outputs": [],
   "source": [
    "#linear model for ripple\n",
    "X=rip_table[['Open', 'High', 'Low', 'Volume', 'Market.Cap']]\n",
    "y=rip_table['Close']"
   ]
  },
  {
   "cell_type": "code",
   "execution_count": 93,
   "metadata": {
    "_cell_guid": "1c22dab4-28e0-4670-8122-a2d6cde00272",
    "_uuid": "2458d3f87548765495f4c203476636b606439dc8",
    "collapsed": true
   },
   "outputs": [],
   "source": [
    "#training set"
   ]
  },
  {
   "cell_type": "code",
   "execution_count": 94,
   "metadata": {
    "_cell_guid": "5e387898-3a96-4947-84e6-862e7a35ff52",
    "_uuid": "4eb869632bc6cceea44fc6bf40d6ab980eac9fd2",
    "collapsed": true
   },
   "outputs": [],
   "source": [
    "from sklearn.model_selection import train_test_split"
   ]
  },
  {
   "cell_type": "code",
   "execution_count": 95,
   "metadata": {
    "_cell_guid": "ad18c498-d390-448b-93f5-086146b2d7cd",
    "_uuid": "45e4b14bb66ce012dbff8c07c2cbfda3ed82fd54"
   },
   "outputs": [
    {
     "data": {
      "text/html": [
       "<div>\n",
       "<style>\n",
       "    .dataframe thead tr:only-child th {\n",
       "        text-align: right;\n",
       "    }\n",
       "\n",
       "    .dataframe thead th {\n",
       "        text-align: left;\n",
       "    }\n",
       "\n",
       "    .dataframe tbody tr th {\n",
       "        vertical-align: top;\n",
       "    }\n",
       "</style>\n",
       "<table border=\"1\" class=\"dataframe\">\n",
       "  <thead>\n",
       "    <tr style=\"text-align: right;\">\n",
       "      <th></th>\n",
       "      <th>Open</th>\n",
       "      <th>High</th>\n",
       "      <th>Low</th>\n",
       "      <th>Volume</th>\n",
       "      <th>Market.Cap</th>\n",
       "    </tr>\n",
       "  </thead>\n",
       "  <tbody>\n",
       "    <tr>\n",
       "      <th>25699</th>\n",
       "      <td>4.94</td>\n",
       "      <td>5.13</td>\n",
       "      <td>4.91</td>\n",
       "      <td>144989</td>\n",
       "      <td>54372800.0</td>\n",
       "    </tr>\n",
       "    <tr>\n",
       "      <th>25477</th>\n",
       "      <td>18.79</td>\n",
       "      <td>21.21</td>\n",
       "      <td>18.68</td>\n",
       "      <td>1632240</td>\n",
       "      <td>206643000.0</td>\n",
       "    </tr>\n",
       "    <tr>\n",
       "      <th>25592</th>\n",
       "      <td>26.18</td>\n",
       "      <td>28.97</td>\n",
       "      <td>26.00</td>\n",
       "      <td>4559000</td>\n",
       "      <td>288020000.0</td>\n",
       "    </tr>\n",
       "    <tr>\n",
       "      <th>25571</th>\n",
       "      <td>29.23</td>\n",
       "      <td>31.29</td>\n",
       "      <td>26.69</td>\n",
       "      <td>3650130</td>\n",
       "      <td>321495000.0</td>\n",
       "    </tr>\n",
       "    <tr>\n",
       "      <th>25688</th>\n",
       "      <td>4.81</td>\n",
       "      <td>4.86</td>\n",
       "      <td>4.43</td>\n",
       "      <td>277464</td>\n",
       "      <td>52962500.0</td>\n",
       "    </tr>\n",
       "  </tbody>\n",
       "</table>\n",
       "</div>"
      ],
      "text/plain": [
       "        Open   High    Low   Volume   Market.Cap\n",
       "25699   4.94   5.13   4.91   144989   54372800.0\n",
       "25477  18.79  21.21  18.68  1632240  206643000.0\n",
       "25592  26.18  28.97  26.00  4559000  288020000.0\n",
       "25571  29.23  31.29  26.69  3650130  321495000.0\n",
       "25688   4.81   4.86   4.43   277464   52962500.0"
      ]
     },
     "execution_count": 95,
     "metadata": {},
     "output_type": "execute_result"
    }
   ],
   "source": [
    "X_train, X_test, y_train, y_test = train_test_split(X, y, test_size=0.3, random_state=101)\n",
    "X_test.head()\n",
    "\n",
    "#random_state-> same random splits"
   ]
  },
  {
   "cell_type": "code",
   "execution_count": 96,
   "metadata": {
    "_cell_guid": "50620be7-35c0-4dec-a476-16155802f3f5",
    "_uuid": "04e9e05be5ca721595bfe57156f113e67893eab5",
    "collapsed": true
   },
   "outputs": [],
   "source": [
    "from sklearn.linear_model import LinearRegression"
   ]
  },
  {
   "cell_type": "code",
   "execution_count": 97,
   "metadata": {
    "_cell_guid": "58e0d721-c82f-461e-b34e-47380b3e70f0",
    "_uuid": "3cda3060f1c00c3b887be216a6a5f92c9a362ae7",
    "collapsed": true
   },
   "outputs": [],
   "source": [
    "lm=LinearRegression()"
   ]
  },
  {
   "cell_type": "code",
   "execution_count": 98,
   "metadata": {
    "_cell_guid": "a76c09e0-4f13-4d6a-95ba-e7a5dfa90e66",
    "_uuid": "a95e7463a6077b6f30744408855041b7371faf16"
   },
   "outputs": [
    {
     "data": {
      "text/plain": [
       "LinearRegression(copy_X=True, fit_intercept=True, n_jobs=1, normalize=False)"
      ]
     },
     "execution_count": 98,
     "metadata": {},
     "output_type": "execute_result"
    }
   ],
   "source": [
    "lm.fit(X_train, y_train)"
   ]
  },
  {
   "cell_type": "code",
   "execution_count": 99,
   "metadata": {
    "_cell_guid": "2a18ca92-23d2-40a4-8a86-37afe8963e8e",
    "_uuid": "4023c326d904b6f7607b3cd9b0362d0936f6839a"
   },
   "outputs": [
    {
     "name": "stdout",
     "output_type": "stream",
     "text": [
      "-0.183834559592\n"
     ]
    }
   ],
   "source": [
    "print(lm.intercept_) #coefficients"
   ]
  },
  {
   "cell_type": "code",
   "execution_count": 100,
   "metadata": {
    "_cell_guid": "2aa8367d-37a5-4906-8cc0-40b131a8a3cc",
    "_uuid": "b93adeff4cfd445e1999b096f5503977a69fa62e"
   },
   "outputs": [
    {
     "data": {
      "text/plain": [
       "array([  2.46945506e+00,   4.47355753e-01,   8.55094861e-01,\n",
       "         3.36079694e-08,  -2.49224372e-07])"
      ]
     },
     "execution_count": 100,
     "metadata": {},
     "output_type": "execute_result"
    }
   ],
   "source": [
    "lm.coef_"
   ]
  },
  {
   "cell_type": "code",
   "execution_count": 101,
   "metadata": {
    "_cell_guid": "c7100de9-da3c-424f-b923-3584c986e856",
    "_uuid": "b8a9768d8fb841b4f2dc16233a704787a5b0026d"
   },
   "outputs": [
    {
     "data": {
      "text/plain": [
       "Index(['Open', 'High', 'Low', 'Volume', 'Market.Cap'], dtype='object')"
      ]
     },
     "execution_count": 101,
     "metadata": {},
     "output_type": "execute_result"
    }
   ],
   "source": [
    "X_train.columns"
   ]
  },
  {
   "cell_type": "code",
   "execution_count": 102,
   "metadata": {
    "_cell_guid": "4c8bedb1-9860-41dc-a006-cb13e7d21609",
    "_uuid": "55e78bda30fbcb0638e47497190576024990469f"
   },
   "outputs": [
    {
     "data": {
      "text/html": [
       "<div>\n",
       "<style>\n",
       "    .dataframe thead tr:only-child th {\n",
       "        text-align: right;\n",
       "    }\n",
       "\n",
       "    .dataframe thead th {\n",
       "        text-align: left;\n",
       "    }\n",
       "\n",
       "    .dataframe tbody tr th {\n",
       "        vertical-align: top;\n",
       "    }\n",
       "</style>\n",
       "<table border=\"1\" class=\"dataframe\">\n",
       "  <thead>\n",
       "    <tr style=\"text-align: right;\">\n",
       "      <th></th>\n",
       "      <th>Coeff</th>\n",
       "    </tr>\n",
       "  </thead>\n",
       "  <tbody>\n",
       "    <tr>\n",
       "      <th>Open</th>\n",
       "      <td>2.469455e+00</td>\n",
       "    </tr>\n",
       "    <tr>\n",
       "      <th>High</th>\n",
       "      <td>4.473558e-01</td>\n",
       "    </tr>\n",
       "    <tr>\n",
       "      <th>Low</th>\n",
       "      <td>8.550949e-01</td>\n",
       "    </tr>\n",
       "    <tr>\n",
       "      <th>Volume</th>\n",
       "      <td>3.360797e-08</td>\n",
       "    </tr>\n",
       "    <tr>\n",
       "      <th>Market.Cap</th>\n",
       "      <td>-2.492244e-07</td>\n",
       "    </tr>\n",
       "  </tbody>\n",
       "</table>\n",
       "</div>"
      ],
      "text/plain": [
       "                   Coeff\n",
       "Open        2.469455e+00\n",
       "High        4.473558e-01\n",
       "Low         8.550949e-01\n",
       "Volume      3.360797e-08\n",
       "Market.Cap -2.492244e-07"
      ]
     },
     "execution_count": 102,
     "metadata": {},
     "output_type": "execute_result"
    }
   ],
   "source": [
    "cdf=pd.DataFrame(lm.coef_,X.columns, columns=['Coeff'])\n",
    "cdf\n",
    "#market cap is not playing a deciding factor here"
   ]
  },
  {
   "cell_type": "code",
   "execution_count": 103,
   "metadata": {
    "_cell_guid": "1ab750c1-9d34-4fda-882c-c6a6399ac297",
    "_uuid": "1393361d53ca949b152fed769c798cc89957e42c"
   },
   "outputs": [],
   "source": [
    "predictions=lm.predict(X_test)"
   ]
  },
  {
   "cell_type": "code",
   "execution_count": 104,
   "metadata": {
    "_cell_guid": "8d9dd625-73ea-46fd-89d6-ef6b312bbc27",
    "_uuid": "76484345ba30fea0fa5af338aae03dc1788f9f19"
   },
   "outputs": [
    {
     "data": {
      "text/plain": [
       "array([  4.96257008,  20.23319795,  28.03047662,  28.81686423,\n",
       "         4.46624268,  21.91317066,  18.16089956,  35.0753834 ,\n",
       "        27.14188077,   3.71390681,  17.74875683,   4.69924748,\n",
       "        24.18367099,  10.29180047,  74.25018635,  10.53883965,\n",
       "        17.92919716,   5.32379816,   4.1984525 ,  17.57100365,\n",
       "         8.57943406,  22.88058976,   4.39792566,  80.81418198,\n",
       "         4.28191773,   4.67471186,  30.58003587,  22.79474281,\n",
       "        17.28713847,   4.16627139,  17.81127069,  12.71931955,\n",
       "        30.25670217,   9.89039529,  23.00085436,  23.86014033,\n",
       "         9.8456778 ,  16.51781009,  16.2501639 ,  20.84576792,\n",
       "         4.14602008,  34.27166817,   4.09124931,  41.51576714,\n",
       "         4.1159903 ,  49.31811483,  20.57483142,  22.0360632 ,\n",
       "         3.71464471,  24.10929999,  34.4163736 ,   4.11003563,\n",
       "        20.89787425,  37.17428395,  16.56708188,  19.52641976,\n",
       "        30.9568391 ,   8.55309825,   4.76389264,  33.72878578,\n",
       "        18.67778535,  17.98680162,  11.13989459,   5.3711895 ,\n",
       "        17.63809065,   4.56046781,  16.94736662,   4.46718041,\n",
       "         4.06123145,  17.71772347,  17.93265072,  55.91703601,\n",
       "        20.22189195,  85.10595213,   3.72446221,  19.19864607,\n",
       "        34.85090807,  19.27548304,  14.16266496,  18.18332127,\n",
       "        29.02648713,  22.06294805,  24.65592016,  32.61720504,\n",
       "        21.6514197 ,  20.77370928,  24.91286616,  17.05224054,\n",
       "        27.03644435,  21.98172517,  16.94548853,  15.34824832,\n",
       "        25.76152053,  16.17719536,  19.8806674 ,  18.07361784,\n",
       "        18.92998255,  17.17858742,  26.76100174,  24.46293105,\n",
       "        18.45023995,   4.52657581,  18.45986114,  31.59431777,\n",
       "        22.59597421,  25.86962076,  18.92859857,  21.40386784,\n",
       "        19.22005135,  11.62139565])"
      ]
     },
     "execution_count": 104,
     "metadata": {},
     "output_type": "execute_result"
    }
   ],
   "source": [
    "predictions"
   ]
  },
  {
   "cell_type": "code",
   "execution_count": 105,
   "metadata": {
    "_cell_guid": "3e8ff70a-89fa-4c28-a747-cfa3a3ea3030",
    "_uuid": "ac76f93ff5079277ead1d6f5be6a2bc963128d55"
   },
   "outputs": [
    {
     "data": {
      "text/plain": [
       "25699     4.92\n",
       "25477    20.98\n",
       "25592    28.96\n",
       "25571    27.99\n",
       "25688     4.54\n",
       "Name: Close, dtype: float64"
      ]
     },
     "execution_count": 105,
     "metadata": {},
     "output_type": "execute_result"
    }
   ],
   "source": [
    "y_test.head()"
   ]
  },
  {
   "cell_type": "code",
   "execution_count": 106,
   "metadata": {
    "_cell_guid": "3e9acc35-d69b-4908-b4d2-ba9ecc426ad4",
    "_uuid": "19378161cd97e9369d4acb4ea0444a43c0022124"
   },
   "outputs": [
    {
     "data": {
      "text/plain": [
       "<matplotlib.collections.PathCollection at 0x1fe3bb0c780>"
      ]
     },
     "execution_count": 106,
     "metadata": {},
     "output_type": "execute_result"
    },
    {
     "data": {
      "image/png": "[encoded data removed]",
      "text/plain": [
       "<matplotlib.figure.Figure at 0x1fe2708e1d0>"
      ]
     },
     "metadata": {},
     "output_type": "display_data"
    }
   ],
   "source": [
    "plt.scatter(y_test, predictions)"
   ]
  },
  {
   "cell_type": "code",
   "execution_count": 107,
   "metadata": {
    "_cell_guid": "7ca9726b-6aec-403c-8953-78cb1693804e",
    "_uuid": "d4dd4501da978a9f49d6a0389069d79df35215c2"
   },
   "outputs": [
    {
     "data": {
      "text/plain": [
       "<matplotlib.axes._subplots.AxesSubplot at 0x1fe3bb18a58>"
      ]
     },
     "execution_count": 107,
     "metadata": {},
     "output_type": "execute_result"
    },
    {
     "data": {
      "image/png": "[encoded data removed]",
      "text/plain": [
       "<matplotlib.figure.Figure at 0x1fe2c0dd390>"
      ]
     },
     "metadata": {},
     "output_type": "display_data"
    }
   ],
   "source": [
    "sns.distplot((y_test- predictions))"
   ]
  },
  {
   "cell_type": "code",
   "execution_count": 108,
   "metadata": {
    "_cell_guid": "d8e14f01-7743-4b2b-aaa1-9bcb4b045d5d",
    "_uuid": "114c7a639bf0032b39a1a9b23f521bcb81f735bd",
    "collapsed": true
   },
   "outputs": [],
   "source": [
    "#we see it shows a linear trend and distribution is uniform with few outliers and since price is low , we cant be very sure whether it can be used as a good predictive model"
   ]
  },
  {
   "cell_type": "code",
   "execution_count": 109,
   "metadata": {
    "_cell_guid": "93e9b398-94ba-4739-bf6b-fb0b5fce080a",
    "_uuid": "b3b4ea18b16d6a2cda131c49fed56ef442f4ff95",
    "collapsed": true
   },
   "outputs": [],
   "source": [
    "#Deciding factors- High, Low and Market Cap"
   ]
  },
  {
   "cell_type": "code",
   "execution_count": 115,
   "metadata": {
    "_cell_guid": "993961d7-e3a6-4759-b7f7-02207a0b54db",
    "_uuid": "e12433f0bf2f519761bca45f98b23a3901e90b39"
   },
   "outputs": [
    {
     "name": "stderr",
     "output_type": "stream",
     "text": [
      "C:\\Users\\sudarshan\\Anaconda3\\lib\\site-packages\\ipykernel_launcher.py:3: SettingWithCopyWarning: \n",
      "A value is trying to be set on a copy of a slice from a DataFrame.\n",
      "Try using .loc[row_indexer,col_indexer] = value instead\n",
      "\n",
      "See the caveats in the documentation: http://pandas.pydata.org/pandas-docs/stable/indexing.html#indexing-view-versus-copy\n",
      "  This is separate from the ipykernel package so we can avoid doing imports until\n"
     ]
    },
    {
     "data": {
      "text/html": [
       "<div>\n",
       "<style>\n",
       "    .dataframe thead tr:only-child th {\n",
       "        text-align: right;\n",
       "    }\n",
       "\n",
       "    .dataframe thead th {\n",
       "        text-align: left;\n",
       "    }\n",
       "\n",
       "    .dataframe tbody tr th {\n",
       "        vertical-align: top;\n",
       "    }\n",
       "</style>\n",
       "<table border=\"1\" class=\"dataframe\">\n",
       "  <thead>\n",
       "    <tr style=\"text-align: right;\">\n",
       "      <th></th>\n",
       "      <th>Date</th>\n",
       "      <th>Open</th>\n",
       "      <th>High</th>\n",
       "      <th>Low</th>\n",
       "      <th>Close</th>\n",
       "      <th>Volume</th>\n",
       "      <th>Market.Cap</th>\n",
       "      <th>coin</th>\n",
       "      <th>Delta</th>\n",
       "      <th>Year</th>\n",
       "    </tr>\n",
       "  </thead>\n",
       "  <tbody>\n",
       "    <tr>\n",
       "      <th>9</th>\n",
       "      <td>2017-12-31</td>\n",
       "      <td>12897.7</td>\n",
       "      <td>14377.4</td>\n",
       "      <td>12755.6</td>\n",
       "      <td>14156.4</td>\n",
       "      <td>12136300000</td>\n",
       "      <td>2.163260e+11</td>\n",
       "      <td>BTC</td>\n",
       "      <td>0.097591</td>\n",
       "      <td>2017</td>\n",
       "    </tr>\n",
       "    <tr>\n",
       "      <th>10</th>\n",
       "      <td>2017-12-30</td>\n",
       "      <td>14681.9</td>\n",
       "      <td>14681.9</td>\n",
       "      <td>12350.1</td>\n",
       "      <td>12952.2</td>\n",
       "      <td>14452600000</td>\n",
       "      <td>2.462240e+11</td>\n",
       "      <td>BTC</td>\n",
       "      <td>-0.117812</td>\n",
       "      <td>2017</td>\n",
       "    </tr>\n",
       "    <tr>\n",
       "      <th>11</th>\n",
       "      <td>2017-12-29</td>\n",
       "      <td>14695.8</td>\n",
       "      <td>15279.0</td>\n",
       "      <td>14307.0</td>\n",
       "      <td>14656.2</td>\n",
       "      <td>13025500000</td>\n",
       "      <td>2.464280e+11</td>\n",
       "      <td>BTC</td>\n",
       "      <td>-0.002695</td>\n",
       "      <td>2017</td>\n",
       "    </tr>\n",
       "    <tr>\n",
       "      <th>12</th>\n",
       "      <td>2017-12-28</td>\n",
       "      <td>15864.1</td>\n",
       "      <td>15888.4</td>\n",
       "      <td>13937.3</td>\n",
       "      <td>14606.5</td>\n",
       "      <td>12336500000</td>\n",
       "      <td>2.659880e+11</td>\n",
       "      <td>BTC</td>\n",
       "      <td>-0.079273</td>\n",
       "      <td>2017</td>\n",
       "    </tr>\n",
       "    <tr>\n",
       "      <th>13</th>\n",
       "      <td>2017-12-27</td>\n",
       "      <td>16163.5</td>\n",
       "      <td>16930.9</td>\n",
       "      <td>15114.3</td>\n",
       "      <td>15838.5</td>\n",
       "      <td>12487600000</td>\n",
       "      <td>2.709760e+11</td>\n",
       "      <td>BTC</td>\n",
       "      <td>-0.020107</td>\n",
       "      <td>2017</td>\n",
       "    </tr>\n",
       "  </tbody>\n",
       "</table>\n",
       "</div>"
      ],
      "text/plain": [
       "          Date     Open     High      Low    Close       Volume    Market.Cap  \\\n",
       "9   2017-12-31  12897.7  14377.4  12755.6  14156.4  12136300000  2.163260e+11   \n",
       "10  2017-12-30  14681.9  14681.9  12350.1  12952.2  14452600000  2.462240e+11   \n",
       "11  2017-12-29  14695.8  15279.0  14307.0  14656.2  13025500000  2.464280e+11   \n",
       "12  2017-12-28  15864.1  15888.4  13937.3  14606.5  12336500000  2.659880e+11   \n",
       "13  2017-12-27  16163.5  16930.9  15114.3  15838.5  12487600000  2.709760e+11   \n",
       "\n",
       "   coin     Delta  Year  \n",
       "9   BTC  0.097591  2017  \n",
       "10  BTC -0.117812  2017  \n",
       "11  BTC -0.002695  2017  \n",
       "12  BTC -0.079273  2017  \n",
       "13  BTC -0.020107  2017  "
      ]
     },
     "execution_count": 115,
     "metadata": {},
     "output_type": "execute_result"
    }
   ],
   "source": [
    "#lets repeat the same process for bitcoin\n",
    "btc_table = df[df['coin']=='BTC']\n",
    "btc_table['Volume']=btc_table['Volume'].str.replace(',','')\n",
    "\n",
    "\n",
    "btc_table.head()"
   ]
  },
  {
   "cell_type": "code",
   "execution_count": 116,
   "metadata": {
    "_cell_guid": "e7886bad-6aff-428a-b3ca-b573bf0bea7c",
    "_uuid": "0315951b983dd6f142d11344fc358996ba82b685"
   },
   "outputs": [],
   "source": [
    "X=btc_table[['Open','High', 'Low', 'Volume', 'Market.Cap']]\n",
    "y=btc_table['Close']\n",
    "X_train, X_test, y_train, y_test = train_test_split(X, y, test_size=0.3, random_state=101)\n"
   ]
  },
  {
   "cell_type": "code",
   "execution_count": 117,
   "metadata": {
    "_cell_guid": "ae71297a-c27f-4976-b37c-6e88812e7e80",
    "_uuid": "2a726de430eff651f35155cead1be825aaaa3a27"
   },
   "outputs": [
    {
     "name": "stdout",
     "output_type": "stream",
     "text": [
      "-23.7838239123\n"
     ]
    },
    {
     "data": {
      "text/plain": [
       "array([ -1.18414454e-02,   1.10134285e+00,   3.31236371e-01,\n",
       "        -4.28836094e-08,  -2.49649184e-08])"
      ]
     },
     "execution_count": 117,
     "metadata": {},
     "output_type": "execute_result"
    }
   ],
   "source": [
    "lm=LinearRegression()\n",
    "lm.fit(X_train, y_train)\n",
    "print(lm.intercept_) \n",
    "lm.coef_"
   ]
  },
  {
   "cell_type": "code",
   "execution_count": 118,
   "metadata": {
    "_cell_guid": "6df4d6c3-9de6-4f9e-a5ff-d03221106366",
    "_uuid": "e2dfbd0bacbb9c6dda06791d119b30689812682c"
   },
   "outputs": [
    {
     "data": {
      "text/html": [
       "<div>\n",
       "<style>\n",
       "    .dataframe thead tr:only-child th {\n",
       "        text-align: right;\n",
       "    }\n",
       "\n",
       "    .dataframe thead th {\n",
       "        text-align: left;\n",
       "    }\n",
       "\n",
       "    .dataframe tbody tr th {\n",
       "        vertical-align: top;\n",
       "    }\n",
       "</style>\n",
       "<table border=\"1\" class=\"dataframe\">\n",
       "  <thead>\n",
       "    <tr style=\"text-align: right;\">\n",
       "      <th></th>\n",
       "      <th>Coeff</th>\n",
       "    </tr>\n",
       "  </thead>\n",
       "  <tbody>\n",
       "    <tr>\n",
       "      <th>Open</th>\n",
       "      <td>-1.184145e-02</td>\n",
       "    </tr>\n",
       "    <tr>\n",
       "      <th>High</th>\n",
       "      <td>1.101343e+00</td>\n",
       "    </tr>\n",
       "    <tr>\n",
       "      <th>Low</th>\n",
       "      <td>3.312364e-01</td>\n",
       "    </tr>\n",
       "    <tr>\n",
       "      <th>Volume</th>\n",
       "      <td>-4.288361e-08</td>\n",
       "    </tr>\n",
       "    <tr>\n",
       "      <th>Market.Cap</th>\n",
       "      <td>-2.496492e-08</td>\n",
       "    </tr>\n",
       "  </tbody>\n",
       "</table>\n",
       "</div>"
      ],
      "text/plain": [
       "                   Coeff\n",
       "Open       -1.184145e-02\n",
       "High        1.101343e+00\n",
       "Low         3.312364e-01\n",
       "Volume     -4.288361e-08\n",
       "Market.Cap -2.496492e-08"
      ]
     },
     "execution_count": 118,
     "metadata": {},
     "output_type": "execute_result"
    }
   ],
   "source": [
    "cdf=pd.DataFrame(lm.coef_,X.columns, columns=['Coeff'])\n",
    "cdf"
   ]
  },
  {
   "cell_type": "code",
   "execution_count": 119,
   "metadata": {
    "_cell_guid": "5762d745-2988-49b9-8c52-2670ce408ec9",
    "_uuid": "b32a16894fc1e74e59abe7fa62c78466b3e32c69"
   },
   "outputs": [
    {
     "data": {
      "text/plain": [
       "array([  1043.68544111,   4169.06630706,   2507.01431573,   2626.89916294,\n",
       "         1179.46045509,   2371.90174217,   6602.35383393,   2762.02238311,\n",
       "         2566.79370731,    852.53274143,   5873.69311864,   1106.8059197 ,\n",
       "         3398.19893727,   1186.12197073,  15179.44297436,   1171.64665483,\n",
       "         2067.94291338,   1184.9532491 ,    912.81771924,   7524.56038098,\n",
       "          983.01688663,   2451.35340836,    884.92425207,  16137.54136336,\n",
       "          891.60796823,    999.19325188,   2651.41545254,   4386.23628132,\n",
       "         1676.28735918,    912.52030428,   2329.73567515,   1070.22051828,\n",
       "         2758.22223674,   1167.46623429,   3881.06930822,   2604.01518029,\n",
       "         1162.30921271,   1748.59698065,   1870.67751344,   4338.68841368,\n",
       "          910.35968772,  16655.31739224,    968.44297628,  19312.12897165,\n",
       "          962.86433205,  18539.07755297,   4078.39028271,   3929.79292146,\n",
       "          994.02267063,   2875.27006498,  17153.6310341 ,    807.80678833,\n",
       "         2830.2732828 ,  16522.95336611,   5897.17314124,   4334.18190235,\n",
       "         8034.23853438,   1033.68746784,   1173.64047165,   2859.29898095,\n",
       "         4046.72636944,   5975.49291121,   1173.690664  ,   1189.98491231,\n",
       "         1577.32754806,   1152.62283915,   1807.54940321,    918.53543373,\n",
       "         1020.82101349,   5798.36584576,   2707.14721205,  13664.52010264,\n",
       "         4231.79425888,  17874.08897575,    806.32024375,   3221.40668005,\n",
       "        17720.16130948,   4378.01968215,   1238.22376464,   2532.74272322,\n",
       "        17450.8601772 ,   4315.32464793,   4542.37312985,   2628.15317102,\n",
       "         2736.1733769 ,   8196.81471332,  10313.55311292,   3696.52145168,\n",
       "         2539.82365595,   4264.93188742,   5920.73380848,   1961.75223902,\n",
       "         4397.44620768,   1791.20220307,   4414.47514418,   1578.85491567,\n",
       "         5777.49402788,   1775.73843763,  11022.3213104 ,   8176.72251599,\n",
       "         3722.15335032,    915.65570365,   7643.37082107,   2706.40691733,\n",
       "         4177.70540584,   2462.99707555,   6664.15918249,   2741.08395966,\n",
       "         2107.99943657,   1222.86110898])"
      ]
     },
     "execution_count": 119,
     "metadata": {},
     "output_type": "execute_result"
    }
   ],
   "source": [
    "predictions=lm.predict(X_test)\n",
    "predictions"
   ]
  },
  {
   "cell_type": "code",
   "execution_count": 120,
   "metadata": {
    "_cell_guid": "45196c5e-e4bf-4c33-9821-04256bb7e0f7",
    "_uuid": "6b63f479077f4a53265a7f7761b3bf02d6d64af6"
   },
   "outputs": [
    {
     "data": {
      "text/plain": [
       "<matplotlib.collections.PathCollection at 0x1fe3d89cd30>"
      ]
     },
     "execution_count": 120,
     "metadata": {},
     "output_type": "execute_result"
    },
    {
     "data": {
      "image/png": "[encoded data removed]",
      "text/plain": [
       "<matplotlib.figure.Figure at 0x1fe3d7c5c50>"
      ]
     },
     "metadata": {},
     "output_type": "display_data"
    }
   ],
   "source": [
    "plt.scatter(y_test, predictions)"
   ]
  },
  {
   "cell_type": "code",
   "execution_count": 121,
   "metadata": {
    "_cell_guid": "001c16b9-2ec8-4695-9f6b-faecec27f192",
    "_uuid": "e7fffb2056456577d0eb6d142754e6157b84e068",
    "collapsed": true
   },
   "outputs": [],
   "source": [
    "#here cdf we got to know that High and low values is major factor in determing the daily closing price for bitcoin"
   ]
  },
  {
   "cell_type": "code",
   "execution_count": 122,
   "metadata": {
    "_cell_guid": "d002465e-924d-4f61-9d47-3de52d0ed139",
    "_uuid": "4bf30e9ae8075e422c028ef47a0b4da7c6f528b5",
    "collapsed": true
   },
   "outputs": [],
   "source": [
    "#Conclusion from linear model, linear model is able to atleast tell us the important factors in prediciting major cryptos as well as \n",
    "#able to tell whether for a particular day, price should go up or down except for few cases, it looks very promising here though"
   ]
  },
  {
   "cell_type": "code",
   "execution_count": 124,
   "metadata": {
    "_cell_guid": "b82315bb-2917-42c9-ad2f-2872ce186eb9",
    "_uuid": "576c8c625b9ff08bc5affb820390573ec196b814"
   },
   "outputs": [
    {
     "name": "stdout",
     "output_type": "stream",
     "text": [
      "0.265560349858\n"
     ]
    },
    {
     "name": "stderr",
     "output_type": "stream",
     "text": [
      "C:\\Users\\sudarshan\\Anaconda3\\lib\\site-packages\\ipykernel_launcher.py:3: SettingWithCopyWarning: \n",
      "A value is trying to be set on a copy of a slice from a DataFrame.\n",
      "Try using .loc[row_indexer,col_indexer] = value instead\n",
      "\n",
      "See the caveats in the documentation: http://pandas.pydata.org/pandas-docs/stable/indexing.html#indexing-view-versus-copy\n",
      "  This is separate from the ipykernel package so we can avoid doing imports until\n"
     ]
    },
    {
     "data": {
      "text/plain": [
       "array([ -2.57081644e-01,   8.81936160e-01,   4.85465706e-01,\n",
       "        -9.10304915e-10,  -2.32796971e-09])"
      ]
     },
     "execution_count": 124,
     "metadata": {},
     "output_type": "execute_result"
    }
   ],
   "source": [
    "#linear model for ltc\n",
    "ltc_table = df[df['coin']=='LTC']\n",
    "ltc_table['Volume']=ltc_table['Volume'].str.replace(',','')\n",
    "X=ltc_table[['Open', 'High', 'Low', 'Volume', 'Market.Cap']]\n",
    "y=ltc_table['Close']\n",
    "X_train, X_test, y_train, y_test = train_test_split(X, y, test_size=0.3, random_state=101)\n",
    "lm=LinearRegression()\n",
    "lm.fit(X_train, y_train)\n",
    "print(lm.intercept_) \n",
    "lm.coef_"
   ]
  },
  {
   "cell_type": "code",
   "execution_count": 125,
   "metadata": {
    "_cell_guid": "277af905-ce24-48c8-a240-816d50671083",
    "_uuid": "70e273a8d473d9eba7a3a34e201dcc6efbc2dde5"
   },
   "outputs": [
    {
     "data": {
      "text/html": [
       "<div>\n",
       "<style>\n",
       "    .dataframe thead tr:only-child th {\n",
       "        text-align: right;\n",
       "    }\n",
       "\n",
       "    .dataframe thead th {\n",
       "        text-align: left;\n",
       "    }\n",
       "\n",
       "    .dataframe tbody tr th {\n",
       "        vertical-align: top;\n",
       "    }\n",
       "</style>\n",
       "<table border=\"1\" class=\"dataframe\">\n",
       "  <thead>\n",
       "    <tr style=\"text-align: right;\">\n",
       "      <th></th>\n",
       "      <th>Coeff</th>\n",
       "    </tr>\n",
       "  </thead>\n",
       "  <tbody>\n",
       "    <tr>\n",
       "      <th>Open</th>\n",
       "      <td>-2.570816e-01</td>\n",
       "    </tr>\n",
       "    <tr>\n",
       "      <th>High</th>\n",
       "      <td>8.819362e-01</td>\n",
       "    </tr>\n",
       "    <tr>\n",
       "      <th>Low</th>\n",
       "      <td>4.854657e-01</td>\n",
       "    </tr>\n",
       "    <tr>\n",
       "      <th>Volume</th>\n",
       "      <td>-9.103049e-10</td>\n",
       "    </tr>\n",
       "    <tr>\n",
       "      <th>Market.Cap</th>\n",
       "      <td>-2.327970e-09</td>\n",
       "    </tr>\n",
       "  </tbody>\n",
       "</table>\n",
       "</div>"
      ],
      "text/plain": [
       "                   Coeff\n",
       "Open       -2.570816e-01\n",
       "High        8.819362e-01\n",
       "Low         4.854657e-01\n",
       "Volume     -9.103049e-10\n",
       "Market.Cap -2.327970e-09"
      ]
     },
     "execution_count": 125,
     "metadata": {},
     "output_type": "execute_result"
    }
   ],
   "source": [
    "cdf=pd.DataFrame(lm.coef_,X.columns, columns=['Coeff'])\n",
    "cdf"
   ]
  },
  {
   "cell_type": "code",
   "execution_count": 126,
   "metadata": {
    "_cell_guid": "5a4d86ad-b3e6-4993-bb1b-a37a976434e9",
    "_uuid": "82a0e0ad121103ae51c3c7df94470173e0fa3908"
   },
   "outputs": [
    {
     "data": {
      "text/plain": [
       "array([   4.06880543,   55.33248957,   27.38707829,   44.81305003,\n",
       "          4.03677232,   46.93224402,   61.34340167,   29.65417205,\n",
       "         52.64531056,    4.47271127,   55.3238779 ,    4.03489799,\n",
       "         47.29871905,   10.85134463,  298.46529062,   10.38025573,\n",
       "         27.66881455,    4.06623651,    4.09735847,   54.61574379,\n",
       "          4.31145391,   38.30143669,    4.13873659,  274.48673522,\n",
       "          3.99091355,    4.00106712,   30.31588493,   71.25855659,\n",
       "         29.11003501,    4.2383178 ,   42.13157004,    6.94154081,\n",
       "         30.20195854,   10.37020788,   46.76894263,   51.16605648,\n",
       "         10.12412287,   27.05561882,   28.4726554 ,   53.85700391,\n",
       "          4.08500689,  317.24911162,    3.99789989,  298.44095569,\n",
       "          4.32168388,  341.04817891,   46.58431942,   60.93343917,\n",
       "          4.73535599,   47.70744207,  315.63818493,    4.12707816,\n",
       "         46.16524443,  286.37267643,   54.17406413,   52.15483825,\n",
       "         74.23390392,    4.22251356,    4.06170627,   30.27091677,\n",
       "         54.03611679,   60.3133329 ,   10.99765396,    4.02741775,\n",
       "         24.9239821 ,    5.04858205,   29.61146112,    4.16077017,\n",
       "          4.32343856,   55.05224223,   40.93291904,  248.57479762,\n",
       "         45.85678918,  354.47041414,    4.20610998,   45.99231949,\n",
       "        291.1573819 ,   51.94106254,   14.64500451,   41.53072111,\n",
       "         95.53648421,   67.67495348,   61.86411979,   30.93022343,\n",
       "         43.94404462,   71.45097317,   87.20123336,   47.54629286,\n",
       "         42.01515874,   67.10235985,   57.0677842 ,   39.86580289,\n",
       "         51.25058296,   30.81514015,   53.56914334,   27.18026325,\n",
       "         64.15160141,   29.76388463,   94.743921  ,   70.79316187,\n",
       "         47.96740724,    4.0855137 ,   62.60212896,   48.29267645,\n",
       "         53.00940506,   39.2680429 ,   53.85074487,   44.39994114,\n",
       "         39.87746836,   10.65846436])"
      ]
     },
     "execution_count": 126,
     "metadata": {},
     "output_type": "execute_result"
    }
   ],
   "source": [
    "predictions=lm.predict(X_test)\n",
    "predictions"
   ]
  },
  {
   "cell_type": "code",
   "execution_count": 127,
   "metadata": {
    "_cell_guid": "38d0e70c-4a21-484e-8dd1-371b58839245",
    "_uuid": "406067c63d9d9bc3a512f6de6a132d7740bcfde7"
   },
   "outputs": [
    {
     "data": {
      "text/plain": [
       "<matplotlib.collections.PathCollection at 0x1fe3d9539e8>"
      ]
     },
     "execution_count": 127,
     "metadata": {},
     "output_type": "execute_result"
    },
    {
     "data": {
      "image/png": "[encoded data removed]",
      "text/plain": [
       "<matplotlib.figure.Figure at 0x1fe3bb33d30>"
      ]
     },
     "metadata": {},
     "output_type": "display_data"
    }
   ],
   "source": [
    "plt.scatter(y_test, predictions)"
   ]
  },
  {
   "cell_type": "code",
   "execution_count": 128,
   "metadata": {
    "_cell_guid": "3d6abf42-0154-4ff2-b181-3a9afe5456db",
    "_uuid": "13760a2dba8ae4ff0346ca8cb0eb32134f2660dd",
    "collapsed": true
   },
   "outputs": [],
   "source": [
    "#ltc's closing price is dependent on high and low similar to what we observed in bitcoin"
   ]
  },
  {
   "cell_type": "code",
   "execution_count": 129,
   "metadata": {
    "_cell_guid": "1da1005f-e77a-4928-a851-ad8fde0f0090",
    "_uuid": "b68a86418b94d194831cbe145fffe2635cfb0182"
   },
   "outputs": [
    {
     "name": "stdout",
     "output_type": "stream",
     "text": [
      "-0.00922095703568\n"
     ]
    },
    {
     "name": "stderr",
     "output_type": "stream",
     "text": [
      "C:\\Users\\sudarshan\\Anaconda3\\lib\\site-packages\\ipykernel_launcher.py:3: SettingWithCopyWarning: \n",
      "A value is trying to be set on a copy of a slice from a DataFrame.\n",
      "Try using .loc[row_indexer,col_indexer] = value instead\n",
      "\n",
      "See the caveats in the documentation: http://pandas.pydata.org/pandas-docs/stable/indexing.html#indexing-view-versus-copy\n",
      "  This is separate from the ipykernel package so we can avoid doing imports until\n"
     ]
    },
    {
     "data": {
      "text/plain": [
       "array([ -6.02584419e-01,   8.38759714e-01,   7.50616839e-01,\n",
       "         8.02927724e-11,   1.25329636e-10])"
      ]
     },
     "execution_count": 129,
     "metadata": {},
     "output_type": "execute_result"
    }
   ],
   "source": [
    "#linear model for etc\n",
    "etc_table = df[df['coin']=='ETC']\n",
    "etc_table['Volume']=etc_table['Volume'].str.replace(',','')\n",
    "X=etc_table[['Open', 'High', 'Low', 'Volume', 'Market.Cap']]\n",
    "y=etc_table['Close']\n",
    "X_train, X_test, y_train, y_test = train_test_split(X, y, test_size=0.3, random_state=101)\n",
    "lm=LinearRegression()\n",
    "lm.fit(X_train, y_train)\n",
    "print(lm.intercept_) \n",
    "lm.coef_\n",
    "\n",
    "#So Cryptos for 2018- looki out for Ripple, LTC, DASH, ETC"
   ]
  },
  {
   "cell_type": "code",
   "execution_count": 130,
   "metadata": {
    "_cell_guid": "5d599406-3262-4250-8d3a-724497051f16",
    "_uuid": "c0eeeaaae07c3bde8d20b9433e63ae00f3fa339a"
   },
   "outputs": [
    {
     "data": {
      "text/html": [
       "<div>\n",
       "<style>\n",
       "    .dataframe thead tr:only-child th {\n",
       "        text-align: right;\n",
       "    }\n",
       "\n",
       "    .dataframe thead th {\n",
       "        text-align: left;\n",
       "    }\n",
       "\n",
       "    .dataframe tbody tr th {\n",
       "        vertical-align: top;\n",
       "    }\n",
       "</style>\n",
       "<table border=\"1\" class=\"dataframe\">\n",
       "  <thead>\n",
       "    <tr style=\"text-align: right;\">\n",
       "      <th></th>\n",
       "      <th>Coeff</th>\n",
       "    </tr>\n",
       "  </thead>\n",
       "  <tbody>\n",
       "    <tr>\n",
       "      <th>Open</th>\n",
       "      <td>-6.025844e-01</td>\n",
       "    </tr>\n",
       "    <tr>\n",
       "      <th>High</th>\n",
       "      <td>8.387597e-01</td>\n",
       "    </tr>\n",
       "    <tr>\n",
       "      <th>Low</th>\n",
       "      <td>7.506168e-01</td>\n",
       "    </tr>\n",
       "    <tr>\n",
       "      <th>Volume</th>\n",
       "      <td>8.029277e-11</td>\n",
       "    </tr>\n",
       "    <tr>\n",
       "      <th>Market.Cap</th>\n",
       "      <td>1.253296e-10</td>\n",
       "    </tr>\n",
       "  </tbody>\n",
       "</table>\n",
       "</div>"
      ],
      "text/plain": [
       "                   Coeff\n",
       "Open       -6.025844e-01\n",
       "High        8.387597e-01\n",
       "Low         7.506168e-01\n",
       "Volume      8.029277e-11\n",
       "Market.Cap  1.253296e-10"
      ]
     },
     "execution_count": 130,
     "metadata": {},
     "output_type": "execute_result"
    }
   ],
   "source": [
    "cdf=pd.DataFrame(lm.coef_,X.columns, columns=['Coeff'])\n",
    "cdf"
   ]
  },
  {
   "cell_type": "code",
   "execution_count": 131,
   "metadata": {
    "_cell_guid": "2a284dd3-a6b2-4756-b1de-5c0585ba1729",
    "_uuid": "aa07711619fb1b3ce1ec82dd3f86fdcd09a80da7",
    "collapsed": true
   },
   "outputs": [],
   "source": [
    "#dependent on high, low, volume and market.cap"
   ]
  },
  {
   "cell_type": "code",
   "execution_count": 132,
   "metadata": {
    "_cell_guid": "5fd2e0dd-833f-4619-9fdc-33dabceb3347",
    "_uuid": "966099aa6dc77afe9c7393929c42c0308486d0c7"
   },
   "outputs": [
    {
     "data": {
      "text/plain": [
       "array([  1.23512395,  12.56170981,  17.1277281 ,  22.73702252,\n",
       "         1.23761226,  18.58814215,  15.81539993,  17.43591826,\n",
       "        17.52249904,   1.22450601,  10.40238373,   1.22604059,\n",
       "        15.3662756 ,   2.61201985,  34.24658806,   2.61503307,\n",
       "         9.04431381,   1.30433826,   1.28895614,  13.80812753,\n",
       "         2.35070835,  17.79247281,   1.34405096,  31.95925485,\n",
       "         1.30380584,   1.22279638,  16.9994184 ,  15.67080404,\n",
       "         6.68615231,   1.32246725,  15.02956053,   2.7533676 ,\n",
       "        20.03568833,   2.68648761,  14.92257263,  16.80941387,\n",
       "         2.63234123,   6.45773956,   6.58609979,  12.72156735,\n",
       "         1.2973003 ,  31.02718734,   1.22166923,  37.39638135,\n",
       "         1.34812251,  39.48779387,  13.95630398,  13.84560848,\n",
       "         1.42836631,  17.14394938,  32.26487103,   1.20178458,\n",
       "        16.43969093,  33.34857385,  10.16412567,  11.94067434,\n",
       "        18.44982947,   2.27259633,   1.23168929,  19.26679966,\n",
       "        11.50778967,  11.36125409,   2.64472734,   1.29820565,\n",
       "         7.45920041,   1.72966321,   6.91582046,   1.41202878,\n",
       "         1.35724228,  10.53390636,  13.94271491,  28.65161421,\n",
       "        14.29389624,  44.56961886,   1.18796179,  15.79598743,\n",
       "        29.93063982,  12.3053311 ,   4.0107177 ,  14.53725076,\n",
       "        28.84831738,  16.28975604,  15.88083033,  18.99760545,\n",
       "        15.75176135,  18.47071969,  26.3639638 ,  10.31419297,\n",
       "        18.88777539,  15.53114245,  11.02126302,  13.39769417,\n",
       "        15.317961  ,   5.87825325,  12.5576442 ,   7.73662542,\n",
       "        12.36028565,   6.51523646,  27.2509754 ,  18.05758036,\n",
       "        10.47843009,   1.37957448,  14.0925266 ,  21.80313329,\n",
       "        16.50987637,  17.81992032,  10.37806041,  15.7136155 ,\n",
       "        15.16726995,   3.36796513])"
      ]
     },
     "execution_count": 132,
     "metadata": {},
     "output_type": "execute_result"
    }
   ],
   "source": [
    "predictions=lm.predict(X_test)\n",
    "predictions"
   ]
  },
  {
   "cell_type": "code",
   "execution_count": 133,
   "metadata": {
    "_cell_guid": "408d6d29-5f3e-46c5-9a15-0429297f8186",
    "_uuid": "f0cf87c9d6afedae0ba727b2c0fffc586d733115"
   },
   "outputs": [
    {
     "data": {
      "text/plain": [
       "<matplotlib.collections.PathCollection at 0x1fe3da03cc0>"
      ]
     },
     "execution_count": 133,
     "metadata": {},
     "output_type": "execute_result"
    },
    {
     "data": {
      "image/png": "[encoded data removed]",
      "text/plain": [
       "<matplotlib.figure.Figure at 0x1fe3d836438>"
      ]
     },
     "metadata": {},
     "output_type": "display_data"
    }
   ],
   "source": [
    "plt.scatter(y_test, predictions)"
   ]
  },
  {
   "cell_type": "code",
   "execution_count": 134,
   "metadata": {
    "_cell_guid": "cfadbb9a-ff41-4410-9ceb-73fa3c43c890",
    "_uuid": "db8b600df272187e032a698616e35e4cc1d00015",
    "collapsed": true
   },
   "outputs": [],
   "source": [
    "#etc also fits in linear model nicely with few outcomes going against them"
   ]
  },
  {
   "cell_type": "code",
   "execution_count": 135,
   "metadata": {
    "_cell_guid": "a4d7313b-33f4-4d0d-a15e-98f341d3ccc5",
    "_uuid": "96c863cd275b6c78b6dbe4ca5c858b509076b317"
   },
   "outputs": [
    {
     "name": "stdout",
     "output_type": "stream",
     "text": [
      "1.01149673141\n"
     ]
    },
    {
     "name": "stderr",
     "output_type": "stream",
     "text": [
      "C:\\Users\\sudarshan\\Anaconda3\\lib\\site-packages\\ipykernel_launcher.py:3: SettingWithCopyWarning: \n",
      "A value is trying to be set on a copy of a slice from a DataFrame.\n",
      "Try using .loc[row_indexer,col_indexer] = value instead\n",
      "\n",
      "See the caveats in the documentation: http://pandas.pydata.org/pandas-docs/stable/indexing.html#indexing-view-versus-copy\n",
      "  This is separate from the ipykernel package so we can avoid doing imports until\n"
     ]
    },
    {
     "data": {
      "text/plain": [
       "array([ -6.06754482e-01,   8.66507073e-01,   5.85946986e-01,\n",
       "        -3.07770231e-08,   1.95894974e-08])"
      ]
     },
     "execution_count": 135,
     "metadata": {},
     "output_type": "execute_result"
    }
   ],
   "source": [
    "#linear model for dash\n",
    "dash_table = df[df['coin']=='DASH']\n",
    "dash_table['Volume']=dash_table['Volume'].str.replace(',','')\n",
    "X=dash_table[['Open', 'High', 'Low', 'Volume', 'Market.Cap']]\n",
    "y=dash_table['Close']\n",
    "X_train, X_test, y_train, y_test = train_test_split(X, y, test_size=0.3, random_state=101)\n",
    "lm=LinearRegression()\n",
    "lm.fit(X_train, y_train)\n",
    "print(lm.intercept_) \n",
    "lm.coef_\n",
    "#So Cryptos for 2018- looki out for Ripple, LTC, DASH, ETC"
   ]
  },
  {
   "cell_type": "code",
   "execution_count": 136,
   "metadata": {
    "_cell_guid": "82fa2d38-51be-4205-b96e-8de37315d950",
    "_uuid": "fab30a89b6e5f3d5083390723c6f4270cc98faba"
   },
   "outputs": [
    {
     "data": {
      "text/html": [
       "<div>\n",
       "<style>\n",
       "    .dataframe thead tr:only-child th {\n",
       "        text-align: right;\n",
       "    }\n",
       "\n",
       "    .dataframe thead th {\n",
       "        text-align: left;\n",
       "    }\n",
       "\n",
       "    .dataframe tbody tr th {\n",
       "        vertical-align: top;\n",
       "    }\n",
       "</style>\n",
       "<table border=\"1\" class=\"dataframe\">\n",
       "  <thead>\n",
       "    <tr style=\"text-align: right;\">\n",
       "      <th></th>\n",
       "      <th>Coeff</th>\n",
       "    </tr>\n",
       "  </thead>\n",
       "  <tbody>\n",
       "    <tr>\n",
       "      <th>Open</th>\n",
       "      <td>-6.067545e-01</td>\n",
       "    </tr>\n",
       "    <tr>\n",
       "      <th>High</th>\n",
       "      <td>8.665071e-01</td>\n",
       "    </tr>\n",
       "    <tr>\n",
       "      <th>Low</th>\n",
       "      <td>5.859470e-01</td>\n",
       "    </tr>\n",
       "    <tr>\n",
       "      <th>Volume</th>\n",
       "      <td>-3.077702e-08</td>\n",
       "    </tr>\n",
       "    <tr>\n",
       "      <th>Market.Cap</th>\n",
       "      <td>1.958950e-08</td>\n",
       "    </tr>\n",
       "  </tbody>\n",
       "</table>\n",
       "</div>"
      ],
      "text/plain": [
       "                   Coeff\n",
       "Open       -6.067545e-01\n",
       "High        8.665071e-01\n",
       "Low         5.859470e-01\n",
       "Volume     -3.077702e-08\n",
       "Market.Cap  1.958950e-08"
      ]
     },
     "execution_count": 136,
     "metadata": {},
     "output_type": "execute_result"
    }
   ],
   "source": [
    "cdf=pd.DataFrame(lm.coef_,X.columns, columns=['Coeff'])\n",
    "cdf "
   ]
  },
  {
   "cell_type": "code",
   "execution_count": 137,
   "metadata": {
    "_cell_guid": "6bf72afc-c5d3-41dd-8026-b08bb289b5a8",
    "_uuid": "54a55e968a3d1d8f88fe3baa24da422db7723608",
    "collapsed": true
   },
   "outputs": [],
   "source": [
    "#dependent on high, low and market cap"
   ]
  },
  {
   "cell_type": "code",
   "execution_count": 138,
   "metadata": {
    "_cell_guid": "8683e52f-85eb-49b8-bd05-110096121fdc",
    "_uuid": "6d894ab4a45aafdf79f8f9e487a12628c6bef3a9"
   },
   "outputs": [
    {
     "data": {
      "text/plain": [
       "array([   20.55572751,   343.97765997,   140.48559212,   173.7740017 ,\n",
       "          32.81276217,   174.89165053,   456.61419237,   143.26655478,\n",
       "         203.98036212,    12.5010599 ,   283.27298305,    21.92232447,\n",
       "         201.04394849,    66.0916449 ,  1306.7810761 ,    70.64479712,\n",
       "          99.82200187,    51.31282961,    16.26998453,   272.91020583,\n",
       "          92.94743843,   166.96384382,    15.95369169,  1205.93484153,\n",
       "          15.15614908,    18.83277742,   142.98123086,   346.72509927,\n",
       "          99.4378558 ,    16.65933896,   164.97616702,    69.41835736,\n",
       "         177.95384343,    68.01540012,   205.72444986,   201.64907407,\n",
       "          67.8607408 ,    88.04396566,    88.56135952,   319.25114386,\n",
       "          16.05083836,   853.99586819,    17.12866377,   978.6641737 ,\n",
       "          16.80805448,  1135.88008556,   317.38752908,   301.23287642,\n",
       "          12.00938408,   199.76704112,   900.78766052,    12.73341391,\n",
       "         192.65483448,   937.78371039,   280.48649985,   298.26726212,\n",
       "         564.78942089,   100.95260192,    28.67137883,   149.74607027,\n",
       "         329.66664473,   294.73711994,    75.64679115,    43.72960397,\n",
       "          94.9120486 ,    17.01138265,    89.79832242,    15.83684341,\n",
       "          18.13412197,   280.04089468,   178.71425715,  1094.84555938,\n",
       "         199.13063396,  1209.05172609,    12.79202648,   190.4394306 ,\n",
       "         885.27893273,   308.56707682,    71.70038565,   194.74080399,\n",
       "         685.15931645,   322.15853517,   361.39149988,   171.91959198,\n",
       "         207.59069011,   488.58575211,   785.08771483,   348.70506478,\n",
       "         181.84298264,   311.03444284,   276.56128222,   129.71624921,\n",
       "         310.79409313,    91.34678584,   312.97942604,   102.70782883,\n",
       "         314.01524713,    88.35859448,   775.53795524,   568.50548744,\n",
       "         341.26374232,    15.92895511,   307.83232564,   188.44270111,\n",
       "         293.82453254,   170.80767501,   273.21889045,   189.49127978,\n",
       "         149.27116896,    71.82233902])"
      ]
     },
     "execution_count": 138,
     "metadata": {},
     "output_type": "execute_result"
    }
   ],
   "source": [
    "predictions=lm.predict(X_test)\n",
    "predictions"
   ]
  },
  {
   "cell_type": "code",
   "execution_count": 139,
   "metadata": {
    "_cell_guid": "bbf1d573-d96c-46be-bfd5-b0eddda819c5",
    "_uuid": "e0574faafda77ab81eb7415b307f089e4ff92357"
   },
   "outputs": [
    {
     "data": {
      "text/plain": [
       "<matplotlib.collections.PathCollection at 0x1fe3daab9e8>"
      ]
     },
     "execution_count": 139,
     "metadata": {},
     "output_type": "execute_result"
    },
    {
     "data": {
      "image/png": "[encoded data removed]",
      "text/plain": [
       "<matplotlib.figure.Figure at 0x1fe3da03be0>"
      ]
     },
     "metadata": {},
     "output_type": "display_data"
    }
   ],
   "source": [
    "plt.scatter(y_test, predictions)"
   ]
  },
  {
   "cell_type": "code",
   "execution_count": 140,
   "metadata": {
    "_cell_guid": "3bffd423-806d-4084-9cf6-639b606f85bd",
    "_uuid": "0bd41e08a8bd7bdba32a868b3598e0c4a1214921",
    "collapsed": true
   },
   "outputs": [],
   "source": [
    "#for such high prices dash is quite predictable and stable at the same time, we should surely look for it. It fits linear model pretty well"
   ]
  },
  {
   "cell_type": "code",
   "execution_count": 141,
   "metadata": {
    "_cell_guid": "03c4a103-5b7e-4edb-b95f-1ab20c815f0d",
    "_uuid": "bdedf0f9cd7d85cc6a0db39e040f65d0ae94d81c",
    "collapsed": true
   },
   "outputs": [],
   "source": [
    "#Keep an eye on Dash, etc and Ripple where close price is pretty much predictable and based on Low, High and Market.Cap\n",
    "#for Ltc, the predicition is mostly based on Low and High only "
   ]
  },
  {
   "cell_type": "code",
   "execution_count": 142,
   "metadata": {
    "_cell_guid": "890f3cb4-a2ef-4641-aef5-fc0289003a33",
    "_uuid": "18187c065ce519fc87bb7c32c77bc6cd200b963a",
    "collapsed": true
   },
   "outputs": [],
   "source": [
    "#But all of them show promising future this year in terms of values and interest of people"
   ]
  },
  {
   "cell_type": "code",
   "execution_count": null,
   "metadata": {
    "_cell_guid": "47ceecf5-1f26-40f6-b55c-d660d6002b8c",
    "_uuid": "7a55c0f5cbddf4fcaa41e4c932d46f5684f43374",
    "collapsed": true
   },
   "outputs": [],
   "source": []
  },
  {
   "cell_type": "code",
   "execution_count": null,
   "metadata": {
    "collapsed": true
   },
   "outputs": [],
   "source": []
  }
 ],
 "metadata": {
  "kernelspec": {
   "display_name": "Python 3",
   "language": "python",
   "name": "python3"
  },
  "language_info": {
   "codemirror_mode": {
    "name": "ipython",
    "version": 3
   },
   "file_extension": ".py",
   "mimetype": "text/x-python",
   "name": "python",
   "nbconvert_exporter": "python",
   "pygments_lexer": "ipython3",
   "version": "3.6.1"
  }
 },
 "nbformat": 4,
 "nbformat_minor": 1
}
